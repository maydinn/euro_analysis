{
 "cells": [
  {
   "cell_type": "markdown",
   "id": "359db4f2",
   "metadata": {},
   "source": [
    "### Euro dolar historic data"
   ]
  },
  {
   "cell_type": "code",
   "execution_count": 3,
   "id": "08325d22",
   "metadata": {},
   "outputs": [],
   "source": [
    "#pip install requests"
   ]
  },
  {
   "cell_type": "code",
   "execution_count": 20,
   "id": "427df3fa",
   "metadata": {},
   "outputs": [],
   "source": [
    "#pip install pandas-datareader"
   ]
  },
  {
   "cell_type": "code",
   "execution_count": 70,
   "id": "866b7b24",
   "metadata": {},
   "outputs": [],
   "source": [
    "import pandas as pd\n",
    "import pandas_datareader.data as web\n",
    "from datetime import datetime\n",
    "\n",
    "start = datetime(2000, 1, 1)\n",
    "end = datetime(2021, 12, 31)\n",
    "aud = web.DataReader('EUR=X', 'yahoo', start, end)"
   ]
  },
  {
   "cell_type": "code",
   "execution_count": 71,
   "id": "510fd40d",
   "metadata": {},
   "outputs": [
    {
     "data": {
      "text/html": [
       "<div>\n",
       "<style scoped>\n",
       "    .dataframe tbody tr th:only-of-type {\n",
       "        vertical-align: middle;\n",
       "    }\n",
       "\n",
       "    .dataframe tbody tr th {\n",
       "        vertical-align: top;\n",
       "    }\n",
       "\n",
       "    .dataframe thead th {\n",
       "        text-align: right;\n",
       "    }\n",
       "</style>\n",
       "<table border=\"1\" class=\"dataframe\">\n",
       "  <thead>\n",
       "    <tr style=\"text-align: right;\">\n",
       "      <th></th>\n",
       "      <th>High</th>\n",
       "      <th>Low</th>\n",
       "      <th>Open</th>\n",
       "      <th>Close</th>\n",
       "      <th>Volume</th>\n",
       "      <th>Adj Close</th>\n",
       "    </tr>\n",
       "    <tr>\n",
       "      <th>Date</th>\n",
       "      <th></th>\n",
       "      <th></th>\n",
       "      <th></th>\n",
       "      <th></th>\n",
       "      <th></th>\n",
       "      <th></th>\n",
       "    </tr>\n",
       "  </thead>\n",
       "  <tbody>\n",
       "    <tr>\n",
       "      <th>2003-12-01</th>\n",
       "      <td>0.83724</td>\n",
       "      <td>0.830560</td>\n",
       "      <td>0.83098</td>\n",
       "      <td>0.83577</td>\n",
       "      <td>0.0</td>\n",
       "      <td>0.83577</td>\n",
       "    </tr>\n",
       "    <tr>\n",
       "      <th>2003-12-02</th>\n",
       "      <td>0.83710</td>\n",
       "      <td>0.825830</td>\n",
       "      <td>0.83605</td>\n",
       "      <td>0.82720</td>\n",
       "      <td>0.0</td>\n",
       "      <td>0.82720</td>\n",
       "    </tr>\n",
       "    <tr>\n",
       "      <th>2003-12-03</th>\n",
       "      <td>0.82802</td>\n",
       "      <td>0.824400</td>\n",
       "      <td>0.82713</td>\n",
       "      <td>0.82488</td>\n",
       "      <td>0.0</td>\n",
       "      <td>0.82488</td>\n",
       "    </tr>\n",
       "    <tr>\n",
       "      <th>2003-12-04</th>\n",
       "      <td>0.83029</td>\n",
       "      <td>0.823450</td>\n",
       "      <td>0.82508</td>\n",
       "      <td>0.82775</td>\n",
       "      <td>0.0</td>\n",
       "      <td>0.82775</td>\n",
       "    </tr>\n",
       "    <tr>\n",
       "      <th>2003-12-05</th>\n",
       "      <td>0.82878</td>\n",
       "      <td>0.820280</td>\n",
       "      <td>0.82795</td>\n",
       "      <td>0.82055</td>\n",
       "      <td>0.0</td>\n",
       "      <td>0.82055</td>\n",
       "    </tr>\n",
       "    <tr>\n",
       "      <th>...</th>\n",
       "      <td>...</td>\n",
       "      <td>...</td>\n",
       "      <td>...</td>\n",
       "      <td>...</td>\n",
       "      <td>...</td>\n",
       "      <td>...</td>\n",
       "    </tr>\n",
       "    <tr>\n",
       "      <th>2021-11-16</th>\n",
       "      <td>0.88256</td>\n",
       "      <td>0.878194</td>\n",
       "      <td>0.87971</td>\n",
       "      <td>0.87978</td>\n",
       "      <td>0.0</td>\n",
       "      <td>0.87978</td>\n",
       "    </tr>\n",
       "    <tr>\n",
       "      <th>2021-11-17</th>\n",
       "      <td>0.88727</td>\n",
       "      <td>0.882301</td>\n",
       "      <td>0.88369</td>\n",
       "      <td>0.88330</td>\n",
       "      <td>0.0</td>\n",
       "      <td>0.88330</td>\n",
       "    </tr>\n",
       "    <tr>\n",
       "      <th>2021-11-18</th>\n",
       "      <td>0.88378</td>\n",
       "      <td>0.880300</td>\n",
       "      <td>0.88354</td>\n",
       "      <td>0.88330</td>\n",
       "      <td>0.0</td>\n",
       "      <td>0.88330</td>\n",
       "    </tr>\n",
       "    <tr>\n",
       "      <th>2021-11-19</th>\n",
       "      <td>0.88870</td>\n",
       "      <td>0.879500</td>\n",
       "      <td>0.87950</td>\n",
       "      <td>0.87963</td>\n",
       "      <td>0.0</td>\n",
       "      <td>0.87963</td>\n",
       "    </tr>\n",
       "    <tr>\n",
       "      <th>2021-11-22</th>\n",
       "      <td>0.88950</td>\n",
       "      <td>0.884600</td>\n",
       "      <td>0.88610</td>\n",
       "      <td>0.88930</td>\n",
       "      <td>0.0</td>\n",
       "      <td>0.88930</td>\n",
       "    </tr>\n",
       "  </tbody>\n",
       "</table>\n",
       "<p>4662 rows × 6 columns</p>\n",
       "</div>"
      ],
      "text/plain": [
       "               High       Low     Open    Close  Volume  Adj Close\n",
       "Date                                                              \n",
       "2003-12-01  0.83724  0.830560  0.83098  0.83577     0.0    0.83577\n",
       "2003-12-02  0.83710  0.825830  0.83605  0.82720     0.0    0.82720\n",
       "2003-12-03  0.82802  0.824400  0.82713  0.82488     0.0    0.82488\n",
       "2003-12-04  0.83029  0.823450  0.82508  0.82775     0.0    0.82775\n",
       "2003-12-05  0.82878  0.820280  0.82795  0.82055     0.0    0.82055\n",
       "...             ...       ...      ...      ...     ...        ...\n",
       "2021-11-16  0.88256  0.878194  0.87971  0.87978     0.0    0.87978\n",
       "2021-11-17  0.88727  0.882301  0.88369  0.88330     0.0    0.88330\n",
       "2021-11-18  0.88378  0.880300  0.88354  0.88330     0.0    0.88330\n",
       "2021-11-19  0.88870  0.879500  0.87950  0.87963     0.0    0.87963\n",
       "2021-11-22  0.88950  0.884600  0.88610  0.88930     0.0    0.88930\n",
       "\n",
       "[4662 rows x 6 columns]"
      ]
     },
     "execution_count": 71,
     "metadata": {},
     "output_type": "execute_result"
    }
   ],
   "source": [
    "aud"
   ]
  },
  {
   "cell_type": "code",
   "execution_count": 72,
   "id": "ba5a1462",
   "metadata": {},
   "outputs": [
    {
     "name": "stdout",
     "output_type": "stream",
     "text": [
      "<class 'pandas.core.frame.DataFrame'>\n",
      "DatetimeIndex: 4662 entries, 2003-12-01 to 2021-11-22\n",
      "Data columns (total 6 columns):\n",
      " #   Column     Non-Null Count  Dtype  \n",
      "---  ------     --------------  -----  \n",
      " 0   High       4662 non-null   float64\n",
      " 1   Low        4662 non-null   float64\n",
      " 2   Open       4662 non-null   float64\n",
      " 3   Close      4662 non-null   float64\n",
      " 4   Volume     4662 non-null   float64\n",
      " 5   Adj Close  4662 non-null   float64\n",
      "dtypes: float64(6)\n",
      "memory usage: 255.0 KB\n"
     ]
    }
   ],
   "source": [
    "aud.info()"
   ]
  },
  {
   "cell_type": "code",
   "execution_count": 73,
   "id": "4752622b",
   "metadata": {},
   "outputs": [
    {
     "data": {
      "text/plain": [
       "<AxesSubplot:xlabel='Date'>"
      ]
     },
     "execution_count": 73,
     "metadata": {},
     "output_type": "execute_result"
    },
    {
     "data": {
      "image/png": "[encoded data removed]",
      "text/plain": [
       "<Figure size 432x288 with 1 Axes>"
      ]
     },
     "metadata": {
      "needs_background": "light"
     },
     "output_type": "display_data"
    }
   ],
   "source": [
    "aud.Close.plot()"
   ]
  },
  {
   "cell_type": "code",
   "execution_count": 19,
   "id": "81d2c8e8",
   "metadata": {},
   "outputs": [
    {
     "data": {
      "text/plain": [
       "Timestamp('2003-12-01 00:00:00')"
      ]
     },
     "execution_count": 19,
     "metadata": {},
     "output_type": "execute_result"
    }
   ],
   "source": [
    "aud.index.min()"
   ]
  },
  {
   "cell_type": "markdown",
   "id": "d02f0fd6",
   "metadata": {},
   "source": [
    "### Presse "
   ]
  },
  {
   "cell_type": "code",
   "execution_count": 23,
   "id": "7e572e3a",
   "metadata": {},
   "outputs": [],
   "source": [
    "#pip install selenium"
   ]
  },
  {
   "cell_type": "code",
   "execution_count": 3,
   "id": "cbdd490b",
   "metadata": {},
   "outputs": [],
   "source": [
    "#pip install webdriver_manager"
   ]
  },
  {
   "cell_type": "code",
   "execution_count": 4,
   "id": "a8834f7b",
   "metadata": {},
   "outputs": [],
   "source": [
    "#from webdriver_manager.chrome import ChromeDriverManager"
   ]
  },
  {
   "cell_type": "code",
   "execution_count": 1,
   "id": "f323aba1",
   "metadata": {},
   "outputs": [],
   "source": [
    "from selenium import webdriver\n",
    "\n",
    "from selenium.webdriver.support.ui import WebDriverWait\n",
    "from selenium.webdriver.support import expected_conditions as EC\n",
    "from selenium.webdriver.common.by import By\n",
    "from selenium.webdriver.common.action_chains import ActionChains\n",
    "\n",
    "\n",
    "import warnings\n",
    "warnings.filterwarnings('ignore')"
   ]
  },
  {
   "cell_type": "code",
   "execution_count": 2,
   "id": "e3866884",
   "metadata": {},
   "outputs": [],
   "source": [
    "import time\n",
    "import pandas as pd"
   ]
  },
  {
   "cell_type": "code",
   "execution_count": 3,
   "id": "f9a26573",
   "metadata": {},
   "outputs": [],
   "source": [
    "DRIVER_PATH = 'C:/Users/User/Downloads/geckodriver.exe'"
   ]
  },
  {
   "cell_type": "code",
   "execution_count": 4,
   "id": "3d4dbe9e",
   "metadata": {},
   "outputs": [],
   "source": [
    "driver = webdriver.Firefox(executable_path=DRIVER_PATH)"
   ]
  },
  {
   "cell_type": "code",
   "execution_count": 5,
   "id": "1ee25ce9",
   "metadata": {},
   "outputs": [],
   "source": [
    "driver.implicitly_wait(100)"
   ]
  },
  {
   "cell_type": "code",
   "execution_count": 6,
   "id": "c6fab5ba",
   "metadata": {},
   "outputs": [],
   "source": [
    "xpath = \"/html/body/div[2]/main/div[3]/dl/div[19]/dt[90]\""
   ]
  },
  {
   "cell_type": "code",
   "execution_count": 7,
   "id": "80a1acff",
   "metadata": {},
   "outputs": [],
   "source": [
    "a = driver.find_elements_by_xpath(\"/html/body/div[2]/main/div[3]/dl/div/dt\")"
   ]
  },
  {
   "cell_type": "code",
   "execution_count": 8,
   "id": "dcffb3ba",
   "metadata": {},
   "outputs": [],
   "source": [
    "years = [element.text for element in a]\n"
   ]
  },
  {
   "cell_type": "code",
   "execution_count": 9,
   "id": "7369df58",
   "metadata": {},
   "outputs": [
    {
     "data": {
      "text/plain": [
       "1941"
      ]
     },
     "execution_count": 9,
     "metadata": {},
     "output_type": "execute_result"
    }
   ],
   "source": [
    "len(years)"
   ]
  },
  {
   "cell_type": "code",
   "execution_count": 10,
   "id": "d4fc513f",
   "metadata": {},
   "outputs": [],
   "source": [
    "xpath = \"/html/body/div[2]/main/div[3]/dl/div[18]/dd[83]/div[2]/a\"\n",
    "#/html/body/div[2]/main/div[3]/dl/div/dd/div[2]/a"
   ]
  },
  {
   "cell_type": "code",
   "execution_count": 11,
   "id": "26ad3f41",
   "metadata": {},
   "outputs": [],
   "source": [
    "b = driver.find_elements_by_xpath(\"/html/body/div[2]/main/div[3]/dl/div/dd/div[2]/a\")"
   ]
  },
  {
   "cell_type": "code",
   "execution_count": 12,
   "id": "e2de8ec9",
   "metadata": {},
   "outputs": [],
   "source": [
    "urls = [element.get_attribute(\"href\") for element in b]"
   ]
  },
  {
   "cell_type": "code",
   "execution_count": 13,
   "id": "f688d30b",
   "metadata": {},
   "outputs": [
    {
     "data": {
      "text/plain": [
       "1941"
      ]
     },
     "execution_count": 13,
     "metadata": {},
     "output_type": "execute_result"
    }
   ],
   "source": [
    "len(urls)"
   ]
  },
  {
   "cell_type": "code",
   "execution_count": 14,
   "id": "8a2a648c",
   "metadata": {},
   "outputs": [],
   "source": [
    "driver.get(urls[1000])"
   ]
  },
  {
   "cell_type": "code",
   "execution_count": 89,
   "id": "849e884f",
   "metadata": {},
   "outputs": [],
   "source": [
    "xpath = \"//div[@class = 'section']\"\n"
   ]
  },
  {
   "cell_type": "code",
   "execution_count": 101,
   "id": "73103888",
   "metadata": {},
   "outputs": [
    {
     "data": {
      "text/plain": [
       "<selenium.webdriver.remote.webelement.WebElement (session=\"987d7885-20f1-4cc4-8f03-c04122e8a28d\", element=\"c28e2111-565b-4bec-bf5b-7219ffc9cee9\")>"
      ]
     },
     "execution_count": 101,
     "metadata": {},
     "output_type": "execute_result"
    }
   ],
   "source": [
    "\n"
   ]
  },
  {
   "cell_type": "code",
   "execution_count": 15,
   "id": "f6dd4463",
   "metadata": {},
   "outputs": [],
   "source": [
    "list_text = []\n",
    "for url in urls:\n",
    "    driver.get(url)\n",
    "    time.sleep(2)\n",
    "    t = driver.find_element_by_css_selector\t(\"div#main-wrapper main\")\n",
    "    t = t.text\n",
    "    list_text.append(t)"
   ]
  },
  {
   "cell_type": "code",
   "execution_count": 16,
   "id": "63319bcd",
   "metadata": {},
   "outputs": [
    {
     "data": {
      "text/plain": [
       "1941"
      ]
     },
     "execution_count": 16,
     "metadata": {},
     "output_type": "execute_result"
    }
   ],
   "source": [
    "len(list_text)"
   ]
  },
  {
   "cell_type": "code",
   "execution_count": 17,
   "id": "db8a71b0",
   "metadata": {},
   "outputs": [
    {
     "data": {
      "text/plain": [
       "'PRESS RELEASE\\nSurvey on the Access to Finance of Enterprises: availability of finance improved amid increase in turnover\\n24 November 2021\\nImprovement in availability of external finance and banks’ willingness to provide credit\\nIncrease in turnover but also higher production costs, particularly for materials and energy\\nMacroeconomic environment no longer perceived by firms as an impediment to accessing external finance\\nFor the period from April to September 2021, small and medium-sized enterprises (SMEs) in the euro area reported an increase in turnover in net terms, reflecting the rebound in economic activity since the start of the coronavirus (COVID-19) pandemic (Chart 1).\\n[\\n1\\n]\\nOn balance, they nonetheless continued to report lower profits as a result of increases in other costs (materials and energy) and labour costs. In net terms, 71% of euro area SMEs reported a rise in the cost of materials and energy, which is the highest percentage since the start of the survey in 2009. At the same time, 43% indicated that labour costs had gone up, which is still a smaller percentage than in the period just before the pandemic. In this survey round, SMEs signalled a net increase (11%) in their fixed investment across all countries and size classes. In the coming months, they expect the economic recovery to continue. In net terms, 36% foresee an increase in turnover over the next six months, which is a higher percentage than in the last survey round.\\nAs in the past, the main concern for SMEs in terms of their business activity was the difficulty in finding skilled labour, followed by the difficulty in finding customers. Concerns about access to finance declined further in the euro area as a whole (7%), with SMEs signalling further improvements in the availability of bank loans. SMEs’ external financing gap – the difference between the change in demand for and the change in the availability of external financing – fell into negative territory, as it was before the pandemic, both for the euro area as a whole (-2%, down from 4%) and for most euro area countries. The percentage of SMEs expecting an improvement in the availability of most external financing sources in the coming months was similar to that in 2019.\\nIn this survey round, a larger net percentage of SMEs perceived an improvement in banks’ willingness to provide credit (11%). The improvements were reported across most countries and all size classes. In addition, euro area SMEs no longer perceived the general economic outlook as an impediment to their access to finance (0%) (Chart 2). Finally, they continued to see public financial support as a factor making a moderate contribution to their access to finance, with higher percentages among micro and small firms.\\nThis report presents the main results of the 25th round of the Survey on the Access to Finance of Enterprises (SAFE) in the euro area, which was conducted between 6 September and 15 October 2021 and covered the period from April to September 2021. The sample comprised 10,493 enterprises in the euro area, of which 9,554 (91%) were SMEs (i.e. firms with fewer than 250 employees).\\nFor media queries, please contact Stefan Ruhkamp, tel.: +49 69 1344 5057.\\nNotes:\\nA report on this survey round, together with the questionnaire and methodological information about the SAFE, is available on the ECB’s website.\\nDetailed data series for the individual euro area countries and aggregate euro area results are available from the ECB’s Statistical Data Warehouse.\\nChart 1\\nChanges in the income situation of euro area SMEs\\n(net percentages of respondents)\\nBase: All SMEs.\\nNote: The figures refer to rounds 18-25 of the survey (October 2017-March 2018 to April 2021-September 2021).\\nChart 2\\nChanges in factors that have an impact on the availability of external financing to euro area enterprises\\n(net percentages of respondents)\\nBase: All enterprises.\\nNotes: The figures refer to rounds 18-25 of the survey (October 2017-March 2018 to April 2021-September 2021).\\nNet percentages are defined here as the difference between the percentage of enterprises reporting that something has increased and the percentage reporting that it has declined.\\nCONTACT\\nEuropean Central Bank\\nDirectorate General Communications\\nSonnemannstrasse 20\\n60314 Frankfurt am Main, Germany\\n+49 69 1344 7455\\nmedia@ecb.europa.eu\\nReproduction is permitted provided that the source is acknowledged.\\nMedia contacts'"
      ]
     },
     "execution_count": 17,
     "metadata": {},
     "output_type": "execute_result"
    }
   ],
   "source": [
    "list_text[1]"
   ]
  },
  {
   "cell_type": "code",
   "execution_count": 18,
   "id": "7c9bb10c",
   "metadata": {},
   "outputs": [
    {
     "data": {
      "text/plain": [
       "\"Monetary policy decisions\\n4 January 2001\\nAt today's meeting, which was held in the form of a teleconference, the Governing Council of the ECB decided that the minimum bid rate on the main refinancing operations and the interest rates on the marginal lending facility and the deposit facility will remain unchanged at 4.75%, 5.75% and 3.75% respectively.\\nThe Governing Council also decided on an allotment amount of EUR 20 billion per operation for the longer-term refinancing operations to be conducted in 2001. This amount takes into consideration the expected liquidity needs of the euro area banking system in 2001 and the desire of the Eurosystem to continue to provide the bulk of refinancing of the financial sector through its main refinancing operations. The Governing Council may adjust the allotment amount in the course of the year in the event of unexpected developments in liquidity needs.\\nCONTACT\\nEuropean Central Bank\\nDirectorate General Communications\\nSonnemannstrasse 20\\n60314 Frankfurt am Main, Germany\\n+49 69 1344 7455\\nmedia@ecb.europa.eu\\nReproduction is permitted provided that the source is acknowledged.\\nMedia contacts\""
      ]
     },
     "execution_count": 18,
     "metadata": {},
     "output_type": "execute_result"
    }
   ],
   "source": [
    "list_text[-2]"
   ]
  },
  {
   "cell_type": "code",
   "execution_count": 19,
   "id": "0e2e266a",
   "metadata": {},
   "outputs": [
    {
     "data": {
      "text/plain": [
       "0"
      ]
     },
     "execution_count": 19,
     "metadata": {},
     "output_type": "execute_result"
    }
   ],
   "source": [
    "list_text.count(None)"
   ]
  },
  {
   "cell_type": "code",
   "execution_count": 20,
   "id": "3e8f47b4",
   "metadata": {},
   "outputs": [
    {
     "name": "stdout",
     "output_type": "stream",
     "text": [
      "<class 'pandas.core.frame.DataFrame'>\n",
      "RangeIndex: 1941 entries, 0 to 1940\n",
      "Data columns (total 2 columns):\n",
      " #   Column  Non-Null Count  Dtype \n",
      "---  ------  --------------  ----- \n",
      " 0   text    1941 non-null   object\n",
      " 1   years   1941 non-null   object\n",
      "dtypes: object(2)\n",
      "memory usage: 30.5+ KB\n"
     ]
    }
   ],
   "source": [
    "df = pd.DataFrame(zip(list_text,years), columns=[\"text\", \"years\"])\n",
    "df.info()"
   ]
  },
  {
   "cell_type": "code",
   "execution_count": 21,
   "id": "5775b454",
   "metadata": {},
   "outputs": [
    {
     "data": {
      "text/html": [
       "<div>\n",
       "<style scoped>\n",
       "    .dataframe tbody tr th:only-of-type {\n",
       "        vertical-align: middle;\n",
       "    }\n",
       "\n",
       "    .dataframe tbody tr th {\n",
       "        vertical-align: top;\n",
       "    }\n",
       "\n",
       "    .dataframe thead th {\n",
       "        text-align: right;\n",
       "    }\n",
       "</style>\n",
       "<table border=\"1\" class=\"dataframe\">\n",
       "  <thead>\n",
       "    <tr style=\"text-align: right;\">\n",
       "      <th></th>\n",
       "      <th>text</th>\n",
       "      <th>years</th>\n",
       "    </tr>\n",
       "  </thead>\n",
       "  <tbody>\n",
       "    <tr>\n",
       "      <th>0</th>\n",
       "      <td>PRESS RELEASE\\nECB to redesign euro banknotes ...</td>\n",
       "      <td>6 December 2021</td>\n",
       "    </tr>\n",
       "    <tr>\n",
       "      <th>1</th>\n",
       "      <td>PRESS RELEASE\\nSurvey on the Access to Finance...</td>\n",
       "      <td>24 November 2021</td>\n",
       "    </tr>\n",
       "    <tr>\n",
       "      <th>2</th>\n",
       "      <td>PRESS RELEASE\\nEurosystem publishes new framew...</td>\n",
       "      <td>22 November 2021</td>\n",
       "    </tr>\n",
       "    <tr>\n",
       "      <th>3</th>\n",
       "      <td>PRESS RELEASE\\nECB Financial Stability Review ...</td>\n",
       "      <td>17 November 2021</td>\n",
       "    </tr>\n",
       "    <tr>\n",
       "      <th>4</th>\n",
       "      <td>PRESS RELEASE\\nECB appoints Doris Schneeberger...</td>\n",
       "      <td>12 November 2021</td>\n",
       "    </tr>\n",
       "  </tbody>\n",
       "</table>\n",
       "</div>"
      ],
      "text/plain": [
       "                                                text             years\n",
       "0  PRESS RELEASE\\nECB to redesign euro banknotes ...   6 December 2021\n",
       "1  PRESS RELEASE\\nSurvey on the Access to Finance...  24 November 2021\n",
       "2  PRESS RELEASE\\nEurosystem publishes new framew...  22 November 2021\n",
       "3  PRESS RELEASE\\nECB Financial Stability Review ...  17 November 2021\n",
       "4  PRESS RELEASE\\nECB appoints Doris Schneeberger...  12 November 2021"
      ]
     },
     "execution_count": 21,
     "metadata": {},
     "output_type": "execute_result"
    }
   ],
   "source": [
    "df.head()"
   ]
  },
  {
   "cell_type": "code",
   "execution_count": 23,
   "id": "bc74b643",
   "metadata": {},
   "outputs": [
    {
     "data": {
      "text/html": [
       "<div>\n",
       "<style scoped>\n",
       "    .dataframe tbody tr th:only-of-type {\n",
       "        vertical-align: middle;\n",
       "    }\n",
       "\n",
       "    .dataframe tbody tr th {\n",
       "        vertical-align: top;\n",
       "    }\n",
       "\n",
       "    .dataframe thead th {\n",
       "        text-align: right;\n",
       "    }\n",
       "</style>\n",
       "<table border=\"1\" class=\"dataframe\">\n",
       "  <thead>\n",
       "    <tr style=\"text-align: right;\">\n",
       "      <th></th>\n",
       "      <th>text</th>\n",
       "      <th>years</th>\n",
       "    </tr>\n",
       "  </thead>\n",
       "  <tbody>\n",
       "  </tbody>\n",
       "</table>\n",
       "</div>"
      ],
      "text/plain": [
       "Empty DataFrame\n",
       "Columns: [text, years]\n",
       "Index: []"
      ]
     },
     "execution_count": 23,
     "metadata": {},
     "output_type": "execute_result"
    }
   ],
   "source": [
    "df[df.text.apply(lambda x : True if len(x.split()) <= 5 else False)]"
   ]
  },
  {
   "cell_type": "code",
   "execution_count": 24,
   "id": "a2138678",
   "metadata": {},
   "outputs": [],
   "source": [
    "df.to_csv(\"data_text.csv\")"
   ]
  },
  {
   "cell_type": "code",
   "execution_count": 61,
   "id": "f121a114",
   "metadata": {},
   "outputs": [
    {
     "data": {
      "text/plain": [
       "date\n",
       "23 June 2014        1\n",
       "28 August 2001      1\n",
       "28 April 2020       1\n",
       "28 April 2014       1\n",
       "28 April 2008       1\n",
       "                   ..\n",
       "9 January 2014      4\n",
       "16 December 2013    4\n",
       "5 March 2009        4\n",
       "8 May 2003          4\n",
       "6 October 2011      5\n",
       "Length: 1497, dtype: int64"
      ]
     },
     "execution_count": 61,
     "metadata": {},
     "output_type": "execute_result"
    }
   ],
   "source": [
    "pd.DataFrame(years, columns=[\"date\"]).groupby(\"date\").size().sort_values()"
   ]
  },
  {
   "cell_type": "code",
   "execution_count": 65,
   "id": "5c620dfc",
   "metadata": {},
   "outputs": [],
   "source": [
    "from datetime import datetime"
   ]
  },
  {
   "cell_type": "code",
   "execution_count": 65,
   "id": "b9526431",
   "metadata": {},
   "outputs": [
    {
     "data": {
      "text/plain": [
       "'10 NOVEMBER 2021'"
      ]
     },
     "execution_count": 65,
     "metadata": {},
     "output_type": "execute_result"
    }
   ],
   "source": [
    "text_list[0]"
   ]
  },
  {
   "cell_type": "code",
   "execution_count": 62,
   "id": "04f627ac",
   "metadata": {},
   "outputs": [],
   "source": [
    "date = pd.DataFrame(pd.to_datetime(years), columns=[\"Date\"])"
   ]
  },
  {
   "cell_type": "code",
   "execution_count": 63,
   "id": "294309cd",
   "metadata": {},
   "outputs": [
    {
     "data": {
      "text/html": [
       "<div>\n",
       "<style scoped>\n",
       "    .dataframe tbody tr th:only-of-type {\n",
       "        vertical-align: middle;\n",
       "    }\n",
       "\n",
       "    .dataframe tbody tr th {\n",
       "        vertical-align: top;\n",
       "    }\n",
       "\n",
       "    .dataframe thead th {\n",
       "        text-align: right;\n",
       "    }\n",
       "</style>\n",
       "<table border=\"1\" class=\"dataframe\">\n",
       "  <thead>\n",
       "    <tr style=\"text-align: right;\">\n",
       "      <th></th>\n",
       "      <th>Date</th>\n",
       "    </tr>\n",
       "  </thead>\n",
       "  <tbody>\n",
       "    <tr>\n",
       "      <th>0</th>\n",
       "      <td>2021-11-17</td>\n",
       "    </tr>\n",
       "    <tr>\n",
       "      <th>1</th>\n",
       "      <td>2021-11-12</td>\n",
       "    </tr>\n",
       "    <tr>\n",
       "      <th>2</th>\n",
       "      <td>2021-11-04</td>\n",
       "    </tr>\n",
       "    <tr>\n",
       "      <th>3</th>\n",
       "      <td>2021-11-02</td>\n",
       "    </tr>\n",
       "    <tr>\n",
       "      <th>4</th>\n",
       "      <td>2021-10-29</td>\n",
       "    </tr>\n",
       "    <tr>\n",
       "      <th>...</th>\n",
       "      <td>...</td>\n",
       "    </tr>\n",
       "    <tr>\n",
       "      <th>1933</th>\n",
       "      <td>2001-01-30</td>\n",
       "    </tr>\n",
       "    <tr>\n",
       "      <th>1934</th>\n",
       "      <td>2001-01-29</td>\n",
       "    </tr>\n",
       "    <tr>\n",
       "      <th>1935</th>\n",
       "      <td>2001-01-18</td>\n",
       "    </tr>\n",
       "    <tr>\n",
       "      <th>1936</th>\n",
       "      <td>2001-01-04</td>\n",
       "    </tr>\n",
       "    <tr>\n",
       "      <th>1937</th>\n",
       "      <td>2001-01-02</td>\n",
       "    </tr>\n",
       "  </tbody>\n",
       "</table>\n",
       "<p>1938 rows × 1 columns</p>\n",
       "</div>"
      ],
      "text/plain": [
       "           Date\n",
       "0    2021-11-17\n",
       "1    2021-11-12\n",
       "2    2021-11-04\n",
       "3    2021-11-02\n",
       "4    2021-10-29\n",
       "...         ...\n",
       "1933 2001-01-30\n",
       "1934 2001-01-29\n",
       "1935 2001-01-18\n",
       "1936 2001-01-04\n",
       "1937 2001-01-02\n",
       "\n",
       "[1938 rows x 1 columns]"
      ]
     },
     "execution_count": 63,
     "metadata": {},
     "output_type": "execute_result"
    }
   ],
   "source": [
    "date"
   ]
  },
  {
   "cell_type": "code",
   "execution_count": 67,
   "id": "c9698ff5",
   "metadata": {},
   "outputs": [],
   "source": [
    "#date = date[date >= datetime(2015,1,1)].dropna()"
   ]
  },
  {
   "cell_type": "code",
   "execution_count": 68,
   "id": "360ddf0e",
   "metadata": {},
   "outputs": [],
   "source": [
    "date_count = date.groupby(\"Date\").size().to_frame(\"count\")"
   ]
  },
  {
   "cell_type": "code",
   "execution_count": 69,
   "id": "b3c62ad3",
   "metadata": {},
   "outputs": [
    {
     "data": {
      "text/html": [
       "<div>\n",
       "<style scoped>\n",
       "    .dataframe tbody tr th:only-of-type {\n",
       "        vertical-align: middle;\n",
       "    }\n",
       "\n",
       "    .dataframe tbody tr th {\n",
       "        vertical-align: top;\n",
       "    }\n",
       "\n",
       "    .dataframe thead th {\n",
       "        text-align: right;\n",
       "    }\n",
       "</style>\n",
       "<table border=\"1\" class=\"dataframe\">\n",
       "  <thead>\n",
       "    <tr style=\"text-align: right;\">\n",
       "      <th></th>\n",
       "      <th>count</th>\n",
       "    </tr>\n",
       "    <tr>\n",
       "      <th>Date</th>\n",
       "      <th></th>\n",
       "    </tr>\n",
       "  </thead>\n",
       "  <tbody>\n",
       "    <tr>\n",
       "      <th>2001-01-02</th>\n",
       "      <td>1</td>\n",
       "    </tr>\n",
       "    <tr>\n",
       "      <th>2001-01-04</th>\n",
       "      <td>1</td>\n",
       "    </tr>\n",
       "    <tr>\n",
       "      <th>2001-01-18</th>\n",
       "      <td>1</td>\n",
       "    </tr>\n",
       "    <tr>\n",
       "      <th>2001-01-29</th>\n",
       "      <td>1</td>\n",
       "    </tr>\n",
       "    <tr>\n",
       "      <th>2001-01-30</th>\n",
       "      <td>1</td>\n",
       "    </tr>\n",
       "    <tr>\n",
       "      <th>...</th>\n",
       "      <td>...</td>\n",
       "    </tr>\n",
       "    <tr>\n",
       "      <th>2021-10-29</th>\n",
       "      <td>3</td>\n",
       "    </tr>\n",
       "    <tr>\n",
       "      <th>2021-11-02</th>\n",
       "      <td>1</td>\n",
       "    </tr>\n",
       "    <tr>\n",
       "      <th>2021-11-04</th>\n",
       "      <td>1</td>\n",
       "    </tr>\n",
       "    <tr>\n",
       "      <th>2021-11-12</th>\n",
       "      <td>1</td>\n",
       "    </tr>\n",
       "    <tr>\n",
       "      <th>2021-11-17</th>\n",
       "      <td>1</td>\n",
       "    </tr>\n",
       "  </tbody>\n",
       "</table>\n",
       "<p>1497 rows × 1 columns</p>\n",
       "</div>"
      ],
      "text/plain": [
       "            count\n",
       "Date             \n",
       "2001-01-02      1\n",
       "2001-01-04      1\n",
       "2001-01-18      1\n",
       "2001-01-29      1\n",
       "2001-01-30      1\n",
       "...           ...\n",
       "2021-10-29      3\n",
       "2021-11-02      1\n",
       "2021-11-04      1\n",
       "2021-11-12      1\n",
       "2021-11-17      1\n",
       "\n",
       "[1497 rows x 1 columns]"
      ]
     },
     "execution_count": 69,
     "metadata": {},
     "output_type": "execute_result"
    }
   ],
   "source": [
    "date_count"
   ]
  },
  {
   "cell_type": "code",
   "execution_count": 74,
   "id": "edcdb31d",
   "metadata": {},
   "outputs": [],
   "source": [
    "aud.index = pd.to_datetime(aud.index)\n",
    "#aud = aud[aud.index >= datetime(2015,1,1)]"
   ]
  },
  {
   "cell_type": "code",
   "execution_count": 75,
   "id": "ffa34723",
   "metadata": {},
   "outputs": [
    {
     "data": {
      "text/html": [
       "<div>\n",
       "<style scoped>\n",
       "    .dataframe tbody tr th:only-of-type {\n",
       "        vertical-align: middle;\n",
       "    }\n",
       "\n",
       "    .dataframe tbody tr th {\n",
       "        vertical-align: top;\n",
       "    }\n",
       "\n",
       "    .dataframe thead th {\n",
       "        text-align: right;\n",
       "    }\n",
       "</style>\n",
       "<table border=\"1\" class=\"dataframe\">\n",
       "  <thead>\n",
       "    <tr style=\"text-align: right;\">\n",
       "      <th></th>\n",
       "      <th>High</th>\n",
       "      <th>Low</th>\n",
       "      <th>Open</th>\n",
       "      <th>Close</th>\n",
       "      <th>Volume</th>\n",
       "      <th>Adj Close</th>\n",
       "    </tr>\n",
       "    <tr>\n",
       "      <th>Date</th>\n",
       "      <th></th>\n",
       "      <th></th>\n",
       "      <th></th>\n",
       "      <th></th>\n",
       "      <th></th>\n",
       "      <th></th>\n",
       "    </tr>\n",
       "  </thead>\n",
       "  <tbody>\n",
       "    <tr>\n",
       "      <th>2003-12-01</th>\n",
       "      <td>0.83724</td>\n",
       "      <td>0.830560</td>\n",
       "      <td>0.83098</td>\n",
       "      <td>0.83577</td>\n",
       "      <td>0.0</td>\n",
       "      <td>0.83577</td>\n",
       "    </tr>\n",
       "    <tr>\n",
       "      <th>2003-12-02</th>\n",
       "      <td>0.83710</td>\n",
       "      <td>0.825830</td>\n",
       "      <td>0.83605</td>\n",
       "      <td>0.82720</td>\n",
       "      <td>0.0</td>\n",
       "      <td>0.82720</td>\n",
       "    </tr>\n",
       "    <tr>\n",
       "      <th>2003-12-03</th>\n",
       "      <td>0.82802</td>\n",
       "      <td>0.824400</td>\n",
       "      <td>0.82713</td>\n",
       "      <td>0.82488</td>\n",
       "      <td>0.0</td>\n",
       "      <td>0.82488</td>\n",
       "    </tr>\n",
       "    <tr>\n",
       "      <th>2003-12-04</th>\n",
       "      <td>0.83029</td>\n",
       "      <td>0.823450</td>\n",
       "      <td>0.82508</td>\n",
       "      <td>0.82775</td>\n",
       "      <td>0.0</td>\n",
       "      <td>0.82775</td>\n",
       "    </tr>\n",
       "    <tr>\n",
       "      <th>2003-12-05</th>\n",
       "      <td>0.82878</td>\n",
       "      <td>0.820280</td>\n",
       "      <td>0.82795</td>\n",
       "      <td>0.82055</td>\n",
       "      <td>0.0</td>\n",
       "      <td>0.82055</td>\n",
       "    </tr>\n",
       "    <tr>\n",
       "      <th>...</th>\n",
       "      <td>...</td>\n",
       "      <td>...</td>\n",
       "      <td>...</td>\n",
       "      <td>...</td>\n",
       "      <td>...</td>\n",
       "      <td>...</td>\n",
       "    </tr>\n",
       "    <tr>\n",
       "      <th>2021-11-16</th>\n",
       "      <td>0.88256</td>\n",
       "      <td>0.878194</td>\n",
       "      <td>0.87971</td>\n",
       "      <td>0.87978</td>\n",
       "      <td>0.0</td>\n",
       "      <td>0.87978</td>\n",
       "    </tr>\n",
       "    <tr>\n",
       "      <th>2021-11-17</th>\n",
       "      <td>0.88727</td>\n",
       "      <td>0.882301</td>\n",
       "      <td>0.88369</td>\n",
       "      <td>0.88330</td>\n",
       "      <td>0.0</td>\n",
       "      <td>0.88330</td>\n",
       "    </tr>\n",
       "    <tr>\n",
       "      <th>2021-11-18</th>\n",
       "      <td>0.88378</td>\n",
       "      <td>0.880300</td>\n",
       "      <td>0.88354</td>\n",
       "      <td>0.88330</td>\n",
       "      <td>0.0</td>\n",
       "      <td>0.88330</td>\n",
       "    </tr>\n",
       "    <tr>\n",
       "      <th>2021-11-19</th>\n",
       "      <td>0.88870</td>\n",
       "      <td>0.879500</td>\n",
       "      <td>0.87950</td>\n",
       "      <td>0.87963</td>\n",
       "      <td>0.0</td>\n",
       "      <td>0.87963</td>\n",
       "    </tr>\n",
       "    <tr>\n",
       "      <th>2021-11-22</th>\n",
       "      <td>0.88950</td>\n",
       "      <td>0.884600</td>\n",
       "      <td>0.88610</td>\n",
       "      <td>0.88930</td>\n",
       "      <td>0.0</td>\n",
       "      <td>0.88930</td>\n",
       "    </tr>\n",
       "  </tbody>\n",
       "</table>\n",
       "<p>4662 rows × 6 columns</p>\n",
       "</div>"
      ],
      "text/plain": [
       "               High       Low     Open    Close  Volume  Adj Close\n",
       "Date                                                              \n",
       "2003-12-01  0.83724  0.830560  0.83098  0.83577     0.0    0.83577\n",
       "2003-12-02  0.83710  0.825830  0.83605  0.82720     0.0    0.82720\n",
       "2003-12-03  0.82802  0.824400  0.82713  0.82488     0.0    0.82488\n",
       "2003-12-04  0.83029  0.823450  0.82508  0.82775     0.0    0.82775\n",
       "2003-12-05  0.82878  0.820280  0.82795  0.82055     0.0    0.82055\n",
       "...             ...       ...      ...      ...     ...        ...\n",
       "2021-11-16  0.88256  0.878194  0.87971  0.87978     0.0    0.87978\n",
       "2021-11-17  0.88727  0.882301  0.88369  0.88330     0.0    0.88330\n",
       "2021-11-18  0.88378  0.880300  0.88354  0.88330     0.0    0.88330\n",
       "2021-11-19  0.88870  0.879500  0.87950  0.87963     0.0    0.87963\n",
       "2021-11-22  0.88950  0.884600  0.88610  0.88930     0.0    0.88930\n",
       "\n",
       "[4662 rows x 6 columns]"
      ]
     },
     "execution_count": 75,
     "metadata": {},
     "output_type": "execute_result"
    }
   ],
   "source": [
    "aud"
   ]
  },
  {
   "cell_type": "code",
   "execution_count": 76,
   "id": "3903005f",
   "metadata": {},
   "outputs": [
    {
     "name": "stdout",
     "output_type": "stream",
     "text": [
      "<class 'pandas.core.frame.DataFrame'>\n",
      "DatetimeIndex: 4662 entries, 2003-12-01 to 2021-11-22\n",
      "Data columns (total 6 columns):\n",
      " #   Column     Non-Null Count  Dtype  \n",
      "---  ------     --------------  -----  \n",
      " 0   High       4662 non-null   float64\n",
      " 1   Low        4662 non-null   float64\n",
      " 2   Open       4662 non-null   float64\n",
      " 3   Close      4662 non-null   float64\n",
      " 4   Volume     4662 non-null   float64\n",
      " 5   Adj Close  4662 non-null   float64\n",
      "dtypes: float64(6)\n",
      "memory usage: 255.0 KB\n"
     ]
    }
   ],
   "source": [
    "aud.info()"
   ]
  },
  {
   "cell_type": "code",
   "execution_count": 77,
   "id": "e3f91e86",
   "metadata": {},
   "outputs": [],
   "source": [
    "df = pd.merge(aud, date_count, how=\"left\", on=\"Date\")"
   ]
  },
  {
   "cell_type": "code",
   "execution_count": 78,
   "id": "8ce1f69b",
   "metadata": {},
   "outputs": [
    {
     "name": "stdout",
     "output_type": "stream",
     "text": [
      "<class 'pandas.core.frame.DataFrame'>\n",
      "DatetimeIndex: 4662 entries, 2003-12-01 to 2021-11-22\n",
      "Data columns (total 7 columns):\n",
      " #   Column     Non-Null Count  Dtype  \n",
      "---  ------     --------------  -----  \n",
      " 0   High       4662 non-null   float64\n",
      " 1   Low        4662 non-null   float64\n",
      " 2   Open       4662 non-null   float64\n",
      " 3   Close      4662 non-null   float64\n",
      " 4   Volume     4662 non-null   float64\n",
      " 5   Adj Close  4662 non-null   float64\n",
      " 6   count      1120 non-null   float64\n",
      "dtypes: float64(7)\n",
      "memory usage: 291.4 KB\n"
     ]
    }
   ],
   "source": [
    "df.info()"
   ]
  },
  {
   "cell_type": "code",
   "execution_count": 79,
   "id": "71634c81",
   "metadata": {},
   "outputs": [],
   "source": [
    "df = df.fillna(0)"
   ]
  },
  {
   "cell_type": "code",
   "execution_count": 80,
   "id": "82cb502d",
   "metadata": {},
   "outputs": [],
   "source": [
    "df.to_csv(\"data.csv\",index=\"Date\")"
   ]
  },
  {
   "cell_type": "code",
   "execution_count": null,
   "id": "8b30de5e",
   "metadata": {},
   "outputs": [],
   "source": []
  },
  {
   "cell_type": "code",
   "execution_count": null,
   "id": "7c90d15b",
   "metadata": {},
   "outputs": [],
   "source": []
  }
 ],
 "metadata": {
  "kernelspec": {
   "display_name": "Python 3",
   "language": "python",
   "name": "python3"
  },
  "language_info": {
   "codemirror_mode": {
    "name": "ipython",
    "version": 3
   },
   "file_extension": ".py",
   "mimetype": "text/x-python",
   "name": "python",
   "nbconvert_exporter": "python",
   "pygments_lexer": "ipython3",
   "version": "3.8.8"
  }
 },
 "nbformat": 4,
 "nbformat_minor": 5
}
