{
  "nbformat": 4,
  "nbformat_minor": 5,
  "metadata": {
    "colab": {
      "name": "notebook2_.ipynb",
      "provenance": []
    },
    "kernelspec": {
      "display_name": "Python 3",
      "language": "python",
      "name": "python3"
    },
    "language_info": {
      "codemirror_mode": {
        "name": "ipython",
        "version": 3
      },
      "file_extension": ".py",
      "mimetype": "text/x-python",
      "name": "python",
      "nbconvert_exporter": "python",
      "pygments_lexer": "ipython3",
      "version": "3.8.8"
    }
  },
  "cells": [
    {
      "cell_type": "code",
      "metadata": {
        "id": "12e87a4e"
      },
      "source": [
        "import tensorflow as tf\n",
        "from tensorflow.keras.preprocessing.text import Tokenizer\n",
        "from tensorflow.keras.preprocessing.sequence import pad_sequences\n",
        "from tensorflow.keras.utils import to_categorical\n",
        "from tensorflow.keras import regularizers"
      ],
      "id": "12e87a4e",
      "execution_count": 1,
      "outputs": []
    },
    {
      "cell_type": "code",
      "metadata": {
        "id": "708aa09c"
      },
      "source": [
        ""
      ],
      "id": "708aa09c",
      "execution_count": null,
      "outputs": []
    },
    {
      "cell_type": "code",
      "metadata": {
        "id": "78efa833"
      },
      "source": [
        "import pandas as pd\n",
        "import numpy as np"
      ],
      "id": "78efa833",
      "execution_count": 2,
      "outputs": []
    },
    {
      "cell_type": "code",
      "metadata": {
        "colab": {
          "base_uri": "https://localhost:8080/"
        },
        "id": "593ecce9",
        "outputId": "c6ef8838-3201-4236-856b-4165a277d5a7"
      },
      "source": [
        "print(tf.__version__)"
      ],
      "id": "593ecce9",
      "execution_count": 3,
      "outputs": [
        {
          "output_type": "stream",
          "name": "stdout",
          "text": [
            "2.7.0\n"
          ]
        }
      ]
    },
    {
      "cell_type": "code",
      "metadata": {
        "colab": {
          "base_uri": "https://localhost:8080/"
        },
        "id": "reo-tD-8Vq58",
        "outputId": "be97f636-8f18-4c92-ca11-4e2077583c76"
      },
      "source": [
        "from google.colab import drive\n",
        "drive.mount('/content/drive')"
      ],
      "id": "reo-tD-8Vq58",
      "execution_count": 4,
      "outputs": [
        {
          "output_type": "stream",
          "name": "stdout",
          "text": [
            "Mounted at /content/drive\n"
          ]
        }
      ]
    },
    {
      "cell_type": "code",
      "metadata": {
        "colab": {
          "base_uri": "https://localhost:8080/",
          "height": 206
        },
        "id": "a7330034",
        "scrolled": true,
        "outputId": "3f4cbad8-e945-4c45-c299-0487c550b290"
      },
      "source": [
        "df = pd.read_csv(\"/content/sample_data/data.csv\", index_col=0)\n",
        "\n",
        "df.head()"
      ],
      "id": "a7330034",
      "execution_count": 3,
      "outputs": [
        {
          "output_type": "execute_result",
          "data": {
            "text/html": [
              "<div>\n",
              "<style scoped>\n",
              "    .dataframe tbody tr th:only-of-type {\n",
              "        vertical-align: middle;\n",
              "    }\n",
              "\n",
              "    .dataframe tbody tr th {\n",
              "        vertical-align: top;\n",
              "    }\n",
              "\n",
              "    .dataframe thead th {\n",
              "        text-align: right;\n",
              "    }\n",
              "</style>\n",
              "<table border=\"1\" class=\"dataframe\">\n",
              "  <thead>\n",
              "    <tr style=\"text-align: right;\">\n",
              "      <th></th>\n",
              "      <th>main_text</th>\n",
              "      <th>target</th>\n",
              "      <th>text2</th>\n",
              "    </tr>\n",
              "  </thead>\n",
              "  <tbody>\n",
              "    <tr>\n",
              "      <th>0</th>\n",
              "      <td>Oil prices behind downward revisions to inflat...</td>\n",
              "      <td>1</td>\n",
              "      <td>oil price behind downward revision inflation e...</td>\n",
              "    </tr>\n",
              "    <tr>\n",
              "      <th>1</th>\n",
              "      <td>The European Central Bank (ECB) today publishe...</td>\n",
              "      <td>1</td>\n",
              "      <td>european central bank ecb today publishes dece...</td>\n",
              "    </tr>\n",
              "    <tr>\n",
              "      <th>2</th>\n",
              "      <td>353,000 counterfeit euro banknotes were withdr...</td>\n",
              "      <td>1</td>\n",
              "      <td>counterfeit euro banknote withdrawn circulatio...</td>\n",
              "    </tr>\n",
              "    <tr>\n",
              "      <th>3</th>\n",
              "      <td>The Governing Council of the European Central ...</td>\n",
              "      <td>1</td>\n",
              "      <td>governing council european central bank today ...</td>\n",
              "    </tr>\n",
              "    <tr>\n",
              "      <th>4</th>\n",
              "      <td>The Governing Council of the European Central ...</td>\n",
              "      <td>1</td>\n",
              "      <td>governing council european central bank ecb de...</td>\n",
              "    </tr>\n",
              "  </tbody>\n",
              "</table>\n",
              "</div>"
            ],
            "text/plain": [
              "                                           main_text  ...                                              text2\n",
              "0  Oil prices behind downward revisions to inflat...  ...  oil price behind downward revision inflation e...\n",
              "1  The European Central Bank (ECB) today publishe...  ...  european central bank ecb today publishes dece...\n",
              "2  353,000 counterfeit euro banknotes were withdr...  ...  counterfeit euro banknote withdrawn circulatio...\n",
              "3  The Governing Council of the European Central ...  ...  governing council european central bank today ...\n",
              "4  The Governing Council of the European Central ...  ...  governing council european central bank ecb de...\n",
              "\n",
              "[5 rows x 3 columns]"
            ]
          },
          "metadata": {},
          "execution_count": 3
        }
      ]
    },
    {
      "cell_type": "code",
      "metadata": {
        "colab": {
          "base_uri": "https://localhost:8080/"
        },
        "id": "137ebca3",
        "outputId": "f155e572-d30d-4a6d-b0ed-fc75cc967ca2"
      },
      "source": [
        "df.info()"
      ],
      "id": "137ebca3",
      "execution_count": 4,
      "outputs": [
        {
          "output_type": "stream",
          "name": "stdout",
          "text": [
            "<class 'pandas.core.frame.DataFrame'>\n",
            "Int64Index: 1216 entries, 0 to 1215\n",
            "Data columns (total 3 columns):\n",
            " #   Column     Non-Null Count  Dtype \n",
            "---  ------     --------------  ----- \n",
            " 0   main_text  1215 non-null   object\n",
            " 1   target     1216 non-null   int64 \n",
            " 2   text2      1215 non-null   object\n",
            "dtypes: int64(1), object(2)\n",
            "memory usage: 38.0+ KB\n"
          ]
        }
      ]
    },
    {
      "cell_type": "code",
      "metadata": {
        "id": "eede8717"
      },
      "source": [
        "df.dropna(inplace=True)"
      ],
      "id": "eede8717",
      "execution_count": 5,
      "outputs": []
    },
    {
      "cell_type": "code",
      "metadata": {
        "colab": {
          "base_uri": "https://localhost:8080/"
        },
        "id": "7c22d0ea",
        "outputId": "1a2b86ce-0a81-45cf-fb99-f00d015f8607"
      },
      "source": [
        "df.info()"
      ],
      "id": "7c22d0ea",
      "execution_count": 6,
      "outputs": [
        {
          "output_type": "stream",
          "name": "stdout",
          "text": [
            "<class 'pandas.core.frame.DataFrame'>\n",
            "Int64Index: 1215 entries, 0 to 1215\n",
            "Data columns (total 3 columns):\n",
            " #   Column     Non-Null Count  Dtype \n",
            "---  ------     --------------  ----- \n",
            " 0   main_text  1215 non-null   object\n",
            " 1   target     1215 non-null   int64 \n",
            " 2   text2      1215 non-null   object\n",
            "dtypes: int64(1), object(2)\n",
            "memory usage: 38.0+ KB\n"
          ]
        }
      ]
    },
    {
      "cell_type": "code",
      "metadata": {
        "id": "58c88cbd"
      },
      "source": [
        "df = df.sample(1215)"
      ],
      "id": "58c88cbd",
      "execution_count": 7,
      "outputs": []
    },
    {
      "cell_type": "code",
      "metadata": {
        "id": "249f92e6"
      },
      "source": [
        "vocab_size = 10000\n",
        "embedding_dim = 16\n",
        "max_length = 120\n",
        "trunc_type='post'\n",
        "oov_tok = \"<OOV>\""
      ],
      "id": "249f92e6",
      "execution_count": 8,
      "outputs": []
    },
    {
      "cell_type": "code",
      "metadata": {
        "colab": {
          "base_uri": "https://localhost:8080/"
        },
        "id": "5fbf1390",
        "outputId": "3b393a5b-84b8-42bc-8815-8e041e240903"
      },
      "source": [
        "sentences = df.text2.to_list()\n",
        "type(sentences)"
      ],
      "id": "5fbf1390",
      "execution_count": 9,
      "outputs": [
        {
          "output_type": "execute_result",
          "data": {
            "text/plain": [
              "list"
            ]
          },
          "metadata": {},
          "execution_count": 9
        }
      ]
    },
    {
      "cell_type": "code",
      "metadata": {
        "id": "3uRovrs2hEpK"
      },
      "source": [
        "training_size= 1215\n",
        "test_portion=.1\n",
        "split = int(test_portion * training_size)"
      ],
      "id": "3uRovrs2hEpK",
      "execution_count": 10,
      "outputs": []
    },
    {
      "cell_type": "code",
      "metadata": {
        "id": "9gy2c-i7grZo"
      },
      "source": [
        "testing_sentences = sentences[0:split]\n",
        "training_sentences = sentences[split:training_size]\n"
      ],
      "id": "9gy2c-i7grZo",
      "execution_count": 11,
      "outputs": []
    },
    {
      "cell_type": "code",
      "metadata": {
        "id": "5ffb022e"
      },
      "source": [
        "tokenizer = Tokenizer(num_words = vocab_size, oov_token=oov_tok)\n",
        "tokenizer.fit_on_texts(training_sentences)\n",
        "word_index = tokenizer.word_index\n",
        "sequences = tokenizer.texts_to_sequences(training_sentences)\n",
        "padded = pad_sequences(sequences,maxlen=max_length, truncating=trunc_type)\n",
        "\n",
        "testing_sequences = tokenizer.texts_to_sequences(testing_sentences)\n",
        "testing_padded = pad_sequences(testing_sequences,maxlen=max_length)"
      ],
      "id": "5ffb022e",
      "execution_count": 12,
      "outputs": []
    },
    {
      "cell_type": "code",
      "metadata": {
        "id": "n-W2KTOEh_2n"
      },
      "source": [
        "labels = df.target.to_list()\n",
        "test_labels = labels[0:split]\n",
        "training_labels = labels[split:training_size]\n",
        "training_labels = np.array(training_labels)\n",
        "testing_labels = np.array(test_labels)"
      ],
      "id": "n-W2KTOEh_2n",
      "execution_count": 13,
      "outputs": []
    },
    {
      "cell_type": "code",
      "metadata": {
        "id": "18602030",
        "colab": {
          "base_uri": "https://localhost:8080/"
        },
        "outputId": "0de2e06e-306c-4514-af4c-5ea0b74b8403"
      },
      "source": [
        "reverse_word_index = dict([(value, key) for (key, value) in word_index.items()])\n",
        "\n",
        "def decode_review(text):\n",
        "    return ' '.join([reverse_word_index.get(i, '?') for i in text])\n",
        "\n",
        "print(decode_review(padded[1]))\n",
        "print(training_sentences[1])"
      ],
      "id": "18602030",
      "execution_count": 14,
      "outputs": [
        {
          "output_type": "stream",
          "name": "stdout",
          "text": [
            "? ? ? ? ? ? ? ? ? july executive board ecb decided proposal directorate general research request evaluation economic research activity ecb three independent external expert marvin goodfriend reiner könig rafael repullo invited act evaluator given specific term reference final report delivered february released today report give balanced account achievement since establishment ecb whole report provides positive assessment research conducted ecb several criterion scientific quality value added relevance conduct monetary policy task function ecb influence academic community institution requested term reference evaluator also made number useful recommendation five area incentive staff conduct research ii management human capital iii coverage coordination research activity different business area ecb iv research support v communication dissemination research report available ecb website http\n",
            "july executive board ecb decided proposal directorate general research request evaluation economic research activity ecb three independent external expert marvin goodfriend reiner könig rafael repullo invited act evaluator given specific term reference final report delivered february released today report give balanced account achievement since establishment ecb whole report provides positive assessment research conducted ecb several criterion scientific quality value added relevance conduct monetary policy task function ecb influence academic community institution requested term reference evaluator also made number useful recommendation five area incentive staff conduct research ii management human capital iii coverage coordination research activity different business area ecb iv research support v communication dissemination research report available ecb website http\n"
          ]
        }
      ]
    },
    {
      "cell_type": "code",
      "metadata": {
        "id": "b0f05201",
        "colab": {
          "base_uri": "https://localhost:8080/"
        },
        "outputId": "60195032-ec5e-4420-816c-86a55e4cd199"
      },
      "source": [
        "model = tf.keras.Sequential([\n",
        "    tf.keras.layers.Embedding(vocab_size, embedding_dim, input_length=max_length),\n",
        "    tf.keras.layers.LSTM(64, activation=\"relu\", return_sequences=True),\n",
        "    tf.keras.layers.LSTM(32,),\n",
        "    tf.keras.layers.Dropout(0.2),\n",
        "    tf.keras.layers.Dense(1, activation='sigmoid')\n",
        "])\n",
        "model.compile(loss='binary_crossentropy',optimizer='adam',metrics=['accuracy'])\n",
        "model.summary()"
      ],
      "id": "b0f05201",
      "execution_count": 15,
      "outputs": [
        {
          "output_type": "stream",
          "name": "stdout",
          "text": [
            "Model: \"sequential\"\n",
            "_________________________________________________________________\n",
            " Layer (type)                Output Shape              Param #   \n",
            "=================================================================\n",
            " embedding (Embedding)       (None, 120, 16)           160000    \n",
            "                                                                 \n",
            " lstm (LSTM)                 (None, 120, 64)           20736     \n",
            "                                                                 \n",
            " lstm_1 (LSTM)               (None, 32)                12416     \n",
            "                                                                 \n",
            " dropout (Dropout)           (None, 32)                0         \n",
            "                                                                 \n",
            " dense (Dense)               (None, 1)                 33        \n",
            "                                                                 \n",
            "=================================================================\n",
            "Total params: 193,185\n",
            "Trainable params: 193,185\n",
            "Non-trainable params: 0\n",
            "_________________________________________________________________\n"
          ]
        }
      ]
    },
    {
      "cell_type": "code",
      "metadata": {
        "id": "UDFxvHkgOJZ5"
      },
      "source": [
        "es_callback = tf.keras.callbacks.EarlyStopping(monitor=\"loss\", patience=20)"
      ],
      "id": "UDFxvHkgOJZ5",
      "execution_count": 18,
      "outputs": []
    },
    {
      "cell_type": "code",
      "metadata": {
        "id": "899f8d56",
        "colab": {
          "base_uri": "https://localhost:8080/"
        },
        "outputId": "1f50f9e1-1658-41b1-b4ae-254eb0bd4b1b"
      },
      "source": [
        "num_epochs = 100\n",
        "history = model.fit(padded, training_labels, epochs=num_epochs, validation_data=(testing_padded, testing_labels))"
      ],
      "id": "899f8d56",
      "execution_count": 16,
      "outputs": [
        {
          "output_type": "stream",
          "name": "stdout",
          "text": [
            "Epoch 1/100\n",
            "35/35 [==============================] - 9s 155ms/step - loss: 0.6935 - accuracy: 0.4872 - val_loss: 0.6932 - val_accuracy: 0.4793\n",
            "Epoch 2/100\n",
            "35/35 [==============================] - 4s 122ms/step - loss: 0.6926 - accuracy: 0.5375 - val_loss: 0.6925 - val_accuracy: 0.5702\n",
            "Epoch 3/100\n",
            "35/35 [==============================] - 4s 123ms/step - loss: 0.6791 - accuracy: 0.5823 - val_loss: 0.6893 - val_accuracy: 0.5207\n",
            "Epoch 4/100\n",
            "35/35 [==============================] - 4s 121ms/step - loss: 0.5915 - accuracy: 0.6865 - val_loss: 0.6860 - val_accuracy: 0.5785\n",
            "Epoch 5/100\n",
            "35/35 [==============================] - 4s 126ms/step - loss: 0.4672 - accuracy: 0.7943 - val_loss: 0.7079 - val_accuracy: 0.5702\n",
            "Epoch 6/100\n",
            "35/35 [==============================] - 4s 121ms/step - loss: 0.3596 - accuracy: 0.8455 - val_loss: 0.7910 - val_accuracy: 0.5702\n",
            "Epoch 7/100\n",
            "35/35 [==============================] - 4s 120ms/step - loss: 0.3296 - accuracy: 0.8629 - val_loss: 0.8248 - val_accuracy: 0.5702\n",
            "Epoch 8/100\n",
            "35/35 [==============================] - 4s 121ms/step - loss: 0.2328 - accuracy: 0.8967 - val_loss: 1.0151 - val_accuracy: 0.5537\n",
            "Epoch 9/100\n",
            "35/35 [==============================] - 4s 124ms/step - loss: 0.2162 - accuracy: 0.8976 - val_loss: 0.9571 - val_accuracy: 0.5785\n",
            "Epoch 10/100\n",
            "35/35 [==============================] - 4s 125ms/step - loss: 0.2244 - accuracy: 0.8830 - val_loss: 0.9210 - val_accuracy: 0.5537\n",
            "Epoch 11/100\n",
            "35/35 [==============================] - 5s 129ms/step - loss: 0.1822 - accuracy: 0.9086 - val_loss: 1.0274 - val_accuracy: 0.5207\n",
            "Epoch 12/100\n",
            "35/35 [==============================] - 4s 127ms/step - loss: 0.1617 - accuracy: 0.9214 - val_loss: 1.2103 - val_accuracy: 0.5537\n",
            "Epoch 13/100\n",
            "35/35 [==============================] - 4s 128ms/step - loss: 0.1404 - accuracy: 0.9278 - val_loss: 1.3529 - val_accuracy: 0.5785\n",
            "Epoch 14/100\n",
            "35/35 [==============================] - 5s 131ms/step - loss: 0.1447 - accuracy: 0.9260 - val_loss: 1.5556 - val_accuracy: 0.5372\n",
            "Epoch 15/100\n",
            "35/35 [==============================] - 4s 123ms/step - loss: 0.1617 - accuracy: 0.9141 - val_loss: 1.4714 - val_accuracy: 0.5785\n",
            "Epoch 16/100\n",
            "35/35 [==============================] - 4s 123ms/step - loss: 0.1336 - accuracy: 0.9269 - val_loss: 1.4350 - val_accuracy: 0.5620\n",
            "Epoch 17/100\n",
            "35/35 [==============================] - 4s 124ms/step - loss: 0.1824 - accuracy: 0.9260 - val_loss: 1.6018 - val_accuracy: 0.5455\n",
            "Epoch 18/100\n",
            "35/35 [==============================] - 4s 123ms/step - loss: 0.1790 - accuracy: 0.9150 - val_loss: 1.1059 - val_accuracy: 0.5455\n",
            "Epoch 19/100\n",
            "35/35 [==============================] - 5s 130ms/step - loss: 0.1460 - accuracy: 0.9196 - val_loss: 1.7959 - val_accuracy: 0.5207\n",
            "Epoch 20/100\n",
            "35/35 [==============================] - 4s 125ms/step - loss: 0.1797 - accuracy: 0.9214 - val_loss: 1.5855 - val_accuracy: 0.5372\n",
            "Epoch 21/100\n",
            "35/35 [==============================] - 4s 122ms/step - loss: 0.1341 - accuracy: 0.9287 - val_loss: 1.5806 - val_accuracy: 0.5620\n",
            "Epoch 22/100\n",
            "35/35 [==============================] - 4s 124ms/step - loss: 0.1293 - accuracy: 0.9388 - val_loss: 1.5671 - val_accuracy: 0.5702\n",
            "Epoch 23/100\n",
            "35/35 [==============================] - 4s 122ms/step - loss: 0.1368 - accuracy: 0.9324 - val_loss: 1.6643 - val_accuracy: 0.5289\n",
            "Epoch 24/100\n",
            "35/35 [==============================] - 4s 122ms/step - loss: 0.1228 - accuracy: 0.9424 - val_loss: 1.7358 - val_accuracy: 0.5289\n",
            "Epoch 25/100\n",
            "35/35 [==============================] - 4s 124ms/step - loss: 0.1406 - accuracy: 0.9424 - val_loss: 2.1067 - val_accuracy: 0.5124\n",
            "Epoch 26/100\n",
            "35/35 [==============================] - 4s 123ms/step - loss: 0.1717 - accuracy: 0.9314 - val_loss: 1.3752 - val_accuracy: 0.5124\n",
            "Epoch 27/100\n",
            "35/35 [==============================] - 4s 127ms/step - loss: 0.1442 - accuracy: 0.9305 - val_loss: 2.0941 - val_accuracy: 0.5124\n",
            "Epoch 28/100\n",
            "35/35 [==============================] - 4s 123ms/step - loss: 0.2452 - accuracy: 0.9068 - val_loss: 1.1374 - val_accuracy: 0.5207\n",
            "Epoch 29/100\n",
            "35/35 [==============================] - 4s 122ms/step - loss: 0.1399 - accuracy: 0.9424 - val_loss: 1.6370 - val_accuracy: 0.5041\n",
            "Epoch 30/100\n",
            "35/35 [==============================] - 4s 122ms/step - loss: 0.1274 - accuracy: 0.9415 - val_loss: 1.4693 - val_accuracy: 0.5455\n",
            "Epoch 31/100\n",
            "35/35 [==============================] - 4s 123ms/step - loss: 0.1185 - accuracy: 0.9415 - val_loss: 1.6877 - val_accuracy: 0.4959\n",
            "Epoch 32/100\n",
            "35/35 [==============================] - 4s 125ms/step - loss: 0.1147 - accuracy: 0.9534 - val_loss: 1.7985 - val_accuracy: 0.4959\n",
            "Epoch 33/100\n",
            "35/35 [==============================] - 4s 125ms/step - loss: 0.1238 - accuracy: 0.9406 - val_loss: 1.9493 - val_accuracy: 0.4876\n",
            "Epoch 34/100\n",
            "35/35 [==============================] - 4s 125ms/step - loss: 0.1601 - accuracy: 0.9324 - val_loss: 1.5605 - val_accuracy: 0.5041\n",
            "Epoch 35/100\n",
            "35/35 [==============================] - 4s 124ms/step - loss: 0.1283 - accuracy: 0.9406 - val_loss: 1.5446 - val_accuracy: 0.5372\n",
            "Epoch 36/100\n",
            "35/35 [==============================] - 4s 126ms/step - loss: 0.1077 - accuracy: 0.9470 - val_loss: 1.7276 - val_accuracy: 0.5289\n",
            "Epoch 37/100\n",
            "35/35 [==============================] - 4s 126ms/step - loss: 0.1047 - accuracy: 0.9598 - val_loss: 1.8404 - val_accuracy: 0.5207\n",
            "Epoch 38/100\n",
            "35/35 [==============================] - 4s 124ms/step - loss: 0.1064 - accuracy: 0.9442 - val_loss: 1.9269 - val_accuracy: 0.5207\n",
            "Epoch 39/100\n",
            "35/35 [==============================] - 4s 127ms/step - loss: 0.1009 - accuracy: 0.9589 - val_loss: 1.8820 - val_accuracy: 0.5041\n",
            "Epoch 40/100\n",
            "35/35 [==============================] - 4s 126ms/step - loss: 0.1013 - accuracy: 0.9543 - val_loss: 1.9883 - val_accuracy: 0.5041\n",
            "Epoch 41/100\n",
            "35/35 [==============================] - 5s 129ms/step - loss: 0.0958 - accuracy: 0.9580 - val_loss: 2.0049 - val_accuracy: 0.5207\n",
            "Epoch 42/100\n",
            "35/35 [==============================] - 4s 126ms/step - loss: 0.0925 - accuracy: 0.9580 - val_loss: 2.0691 - val_accuracy: 0.5124\n",
            "Epoch 43/100\n",
            "35/35 [==============================] - 4s 125ms/step - loss: 0.0976 - accuracy: 0.9570 - val_loss: 1.9668 - val_accuracy: 0.5041\n",
            "Epoch 44/100\n",
            "35/35 [==============================] - 4s 124ms/step - loss: 0.1038 - accuracy: 0.9497 - val_loss: 1.9226 - val_accuracy: 0.4959\n",
            "Epoch 45/100\n",
            "35/35 [==============================] - 4s 122ms/step - loss: 0.0956 - accuracy: 0.9589 - val_loss: 1.9597 - val_accuracy: 0.4959\n",
            "Epoch 46/100\n",
            "35/35 [==============================] - 4s 126ms/step - loss: 0.0851 - accuracy: 0.9616 - val_loss: 2.0300 - val_accuracy: 0.5041\n",
            "Epoch 47/100\n",
            "35/35 [==============================] - 5s 133ms/step - loss: 0.0885 - accuracy: 0.9589 - val_loss: 2.0020 - val_accuracy: 0.5207\n",
            "Epoch 48/100\n",
            "35/35 [==============================] - 4s 127ms/step - loss: 0.0913 - accuracy: 0.9516 - val_loss: 1.8879 - val_accuracy: 0.5372\n",
            "Epoch 49/100\n",
            "35/35 [==============================] - 4s 127ms/step - loss: 0.0860 - accuracy: 0.9589 - val_loss: 2.1222 - val_accuracy: 0.5124\n",
            "Epoch 50/100\n",
            "35/35 [==============================] - 4s 125ms/step - loss: 0.0833 - accuracy: 0.9607 - val_loss: 2.1180 - val_accuracy: 0.5124\n",
            "Epoch 51/100\n",
            "35/35 [==============================] - 4s 121ms/step - loss: 0.0798 - accuracy: 0.9653 - val_loss: 2.2030 - val_accuracy: 0.4959\n",
            "Epoch 52/100\n",
            "35/35 [==============================] - 4s 122ms/step - loss: 0.0931 - accuracy: 0.9598 - val_loss: 1.8872 - val_accuracy: 0.5207\n",
            "Epoch 53/100\n",
            "35/35 [==============================] - 4s 125ms/step - loss: 0.0886 - accuracy: 0.9570 - val_loss: 2.0244 - val_accuracy: 0.5041\n",
            "Epoch 54/100\n",
            "35/35 [==============================] - 4s 128ms/step - loss: 0.0829 - accuracy: 0.9616 - val_loss: 1.9218 - val_accuracy: 0.5124\n",
            "Epoch 55/100\n",
            "35/35 [==============================] - 4s 127ms/step - loss: 0.0975 - accuracy: 0.9598 - val_loss: 1.9295 - val_accuracy: 0.5124\n",
            "Epoch 56/100\n",
            "35/35 [==============================] - 4s 126ms/step - loss: 0.0828 - accuracy: 0.9662 - val_loss: 2.1592 - val_accuracy: 0.5124\n",
            "Epoch 57/100\n",
            "35/35 [==============================] - 4s 125ms/step - loss: 0.0813 - accuracy: 0.9598 - val_loss: 2.2097 - val_accuracy: 0.5124\n",
            "Epoch 58/100\n",
            "35/35 [==============================] - 4s 124ms/step - loss: 0.0810 - accuracy: 0.9607 - val_loss: 2.1691 - val_accuracy: 0.5207\n",
            "Epoch 59/100\n",
            "35/35 [==============================] - 4s 125ms/step - loss: 0.0805 - accuracy: 0.9598 - val_loss: 2.2246 - val_accuracy: 0.5207\n",
            "Epoch 60/100\n",
            "35/35 [==============================] - 4s 126ms/step - loss: 0.0912 - accuracy: 0.9552 - val_loss: 1.9355 - val_accuracy: 0.5041\n",
            "Epoch 61/100\n",
            "35/35 [==============================] - 4s 127ms/step - loss: 0.0800 - accuracy: 0.9607 - val_loss: 2.1424 - val_accuracy: 0.4959\n",
            "Epoch 62/100\n",
            "35/35 [==============================] - 4s 126ms/step - loss: 0.0846 - accuracy: 0.9580 - val_loss: 1.9954 - val_accuracy: 0.5455\n",
            "Epoch 63/100\n",
            "35/35 [==============================] - 4s 126ms/step - loss: 0.0854 - accuracy: 0.9580 - val_loss: 1.9842 - val_accuracy: 0.5372\n",
            "Epoch 64/100\n",
            "35/35 [==============================] - 4s 126ms/step - loss: 0.0707 - accuracy: 0.9625 - val_loss: 2.2708 - val_accuracy: 0.4793\n",
            "Epoch 65/100\n",
            "35/35 [==============================] - 4s 126ms/step - loss: 0.0693 - accuracy: 0.9662 - val_loss: 2.1462 - val_accuracy: 0.4876\n",
            "Epoch 66/100\n",
            "35/35 [==============================] - 4s 126ms/step - loss: 0.0691 - accuracy: 0.9634 - val_loss: 1.9116 - val_accuracy: 0.5207\n",
            "Epoch 67/100\n",
            "35/35 [==============================] - 4s 124ms/step - loss: 0.0787 - accuracy: 0.9580 - val_loss: 2.1310 - val_accuracy: 0.4876\n",
            "Epoch 68/100\n",
            "35/35 [==============================] - 4s 127ms/step - loss: 0.0692 - accuracy: 0.9625 - val_loss: 2.1222 - val_accuracy: 0.5124\n",
            "Epoch 69/100\n",
            "35/35 [==============================] - 4s 124ms/step - loss: 0.0731 - accuracy: 0.9616 - val_loss: 1.9481 - val_accuracy: 0.5537\n",
            "Epoch 70/100\n",
            "35/35 [==============================] - 4s 124ms/step - loss: 0.0711 - accuracy: 0.9598 - val_loss: 1.9478 - val_accuracy: 0.5455\n",
            "Epoch 71/100\n",
            "35/35 [==============================] - 4s 125ms/step - loss: 0.0724 - accuracy: 0.9653 - val_loss: 2.1066 - val_accuracy: 0.5455\n",
            "Epoch 72/100\n",
            "35/35 [==============================] - 4s 125ms/step - loss: 0.0801 - accuracy: 0.9589 - val_loss: 2.1038 - val_accuracy: 0.5537\n",
            "Epoch 73/100\n",
            "35/35 [==============================] - 4s 125ms/step - loss: 0.0703 - accuracy: 0.9662 - val_loss: 2.0264 - val_accuracy: 0.5702\n",
            "Epoch 74/100\n",
            "35/35 [==============================] - 4s 127ms/step - loss: 0.0670 - accuracy: 0.9634 - val_loss: 2.0894 - val_accuracy: 0.5455\n",
            "Epoch 75/100\n",
            "35/35 [==============================] - 4s 127ms/step - loss: 0.0653 - accuracy: 0.9662 - val_loss: 2.2729 - val_accuracy: 0.5537\n",
            "Epoch 76/100\n",
            "35/35 [==============================] - 4s 125ms/step - loss: 0.0880 - accuracy: 0.9561 - val_loss: 2.0156 - val_accuracy: 0.5372\n",
            "Epoch 77/100\n",
            "35/35 [==============================] - 4s 123ms/step - loss: 0.0717 - accuracy: 0.9662 - val_loss: 2.1221 - val_accuracy: 0.5537\n",
            "Epoch 78/100\n",
            "35/35 [==============================] - 4s 122ms/step - loss: 0.0613 - accuracy: 0.9671 - val_loss: 2.3065 - val_accuracy: 0.5372\n",
            "Epoch 79/100\n",
            "35/35 [==============================] - 4s 124ms/step - loss: 0.0620 - accuracy: 0.9671 - val_loss: 2.1868 - val_accuracy: 0.5620\n",
            "Epoch 80/100\n",
            "35/35 [==============================] - 4s 124ms/step - loss: 0.0646 - accuracy: 0.9671 - val_loss: 2.1090 - val_accuracy: 0.5207\n",
            "Epoch 81/100\n",
            "35/35 [==============================] - 4s 124ms/step - loss: 0.0644 - accuracy: 0.9653 - val_loss: 2.2022 - val_accuracy: 0.5537\n",
            "Epoch 82/100\n",
            "35/35 [==============================] - 4s 126ms/step - loss: 0.0621 - accuracy: 0.9653 - val_loss: 2.2863 - val_accuracy: 0.5785\n",
            "Epoch 83/100\n",
            "35/35 [==============================] - 4s 123ms/step - loss: 0.0637 - accuracy: 0.9598 - val_loss: 2.2804 - val_accuracy: 0.5289\n",
            "Epoch 84/100\n",
            "35/35 [==============================] - 4s 125ms/step - loss: 0.0736 - accuracy: 0.9634 - val_loss: 2.1148 - val_accuracy: 0.5702\n",
            "Epoch 85/100\n",
            "35/35 [==============================] - 4s 125ms/step - loss: 0.0629 - accuracy: 0.9662 - val_loss: 2.0536 - val_accuracy: 0.5455\n",
            "Epoch 86/100\n",
            "35/35 [==============================] - 4s 124ms/step - loss: 0.0706 - accuracy: 0.9625 - val_loss: 2.1512 - val_accuracy: 0.5702\n",
            "Epoch 87/100\n",
            "35/35 [==============================] - 4s 125ms/step - loss: 0.0703 - accuracy: 0.9616 - val_loss: 2.1131 - val_accuracy: 0.5207\n",
            "Epoch 88/100\n",
            "35/35 [==============================] - 4s 126ms/step - loss: 0.0612 - accuracy: 0.9671 - val_loss: 2.4746 - val_accuracy: 0.5289\n",
            "Epoch 89/100\n",
            "35/35 [==============================] - 4s 127ms/step - loss: 0.0585 - accuracy: 0.9680 - val_loss: 2.4130 - val_accuracy: 0.5537\n",
            "Epoch 90/100\n",
            "35/35 [==============================] - 4s 126ms/step - loss: 0.0607 - accuracy: 0.9625 - val_loss: 2.4473 - val_accuracy: 0.5455\n",
            "Epoch 91/100\n",
            "35/35 [==============================] - 4s 124ms/step - loss: 0.0600 - accuracy: 0.9671 - val_loss: 2.3544 - val_accuracy: 0.5455\n",
            "Epoch 92/100\n",
            "35/35 [==============================] - 4s 126ms/step - loss: 0.0562 - accuracy: 0.9707 - val_loss: 2.5113 - val_accuracy: 0.5702\n",
            "Epoch 93/100\n",
            "35/35 [==============================] - 4s 124ms/step - loss: 0.0591 - accuracy: 0.9653 - val_loss: 2.3554 - val_accuracy: 0.5124\n",
            "Epoch 94/100\n",
            "35/35 [==============================] - 4s 122ms/step - loss: 0.0961 - accuracy: 0.9516 - val_loss: 2.4112 - val_accuracy: 0.5289\n",
            "Epoch 95/100\n",
            "35/35 [==============================] - 4s 123ms/step - loss: 0.0780 - accuracy: 0.9598 - val_loss: 2.4071 - val_accuracy: 0.5372\n",
            "Epoch 96/100\n",
            "35/35 [==============================] - 4s 123ms/step - loss: 0.0875 - accuracy: 0.9570 - val_loss: 2.2253 - val_accuracy: 0.5207\n",
            "Epoch 97/100\n",
            "35/35 [==============================] - 4s 123ms/step - loss: 0.0820 - accuracy: 0.9607 - val_loss: 2.4363 - val_accuracy: 0.5124\n",
            "Epoch 98/100\n",
            "35/35 [==============================] - 4s 123ms/step - loss: 0.0717 - accuracy: 0.9625 - val_loss: 2.2597 - val_accuracy: 0.5041\n",
            "Epoch 99/100\n",
            "35/35 [==============================] - 4s 123ms/step - loss: 0.0639 - accuracy: 0.9671 - val_loss: 2.3632 - val_accuracy: 0.5207\n",
            "Epoch 100/100\n",
            "35/35 [==============================] - 4s 125ms/step - loss: 0.0613 - accuracy: 0.9625 - val_loss: 2.3657 - val_accuracy: 0.5207\n"
          ]
        }
      ]
    },
    {
      "cell_type": "code",
      "metadata": {
        "id": "7sWUuAImYuZH",
        "colab": {
          "base_uri": "https://localhost:8080/",
          "height": 541
        },
        "outputId": "e076a004-3d97-4328-8e58-d09ec4c1ae1f"
      },
      "source": [
        "import matplotlib.pyplot as plt\n",
        "\n",
        "\n",
        "def plot_graphs(history, string):\n",
        "  plt.plot(history.history[string])\n",
        "  plt.plot(history.history['val_'+string])\n",
        "  plt.xlabel(\"Epochs\")\n",
        "  plt.ylabel(string)\n",
        "  plt.legend([string, 'val_'+string])\n",
        "  plt.show()\n",
        "\n",
        "plot_graphs(history, 'accuracy')\n",
        "plot_graphs(history, 'loss')"
      ],
      "id": "7sWUuAImYuZH",
      "execution_count": 17,
      "outputs": [
        {
          "output_type": "display_data",
          "data": {
            "image/png": "[encoded data removed]",
            "text/plain": [
              "<Figure size 432x288 with 1 Axes>"
            ]
          },
          "metadata": {
            "needs_background": "light"
          }
        },
        {
          "output_type": "display_data",
          "data": {
            "image/png": "[encoded data removed]",
            "text/plain": [
              "<Figure size 432x288 with 1 Axes>"
            ]
          },
          "metadata": {
            "needs_background": "light"
          }
        }
      ]
    },
    {
      "cell_type": "code",
      "metadata": {
        "id": "Na9K0AAxRSh7"
      },
      "source": [
        "word_index = tokenizer.word_index\n",
        "vocab_size=len(word_index)"
      ],
      "id": "Na9K0AAxRSh7",
      "execution_count": 18,
      "outputs": []
    },
    {
      "cell_type": "code",
      "metadata": {
        "id": "LMfvKDUyQHme"
      },
      "source": [
        "reverse_word_index = dict([(value, key) for (key, value) in word_index.items()])\n",
        "\n",
        "def decode_sentence(text):\n",
        "    return ' '.join([reverse_word_index.get(i, '?') for i in text])\n"
      ],
      "id": "LMfvKDUyQHme",
      "execution_count": 19,
      "outputs": []
    },
    {
      "cell_type": "code",
      "metadata": {
        "colab": {
          "base_uri": "https://localhost:8080/"
        },
        "id": "cKA6YPI7QsMo",
        "outputId": "940eec85-123e-4a2a-a142-3ea8484f1e5a"
      },
      "source": [
        "e = model.layers[0]\n",
        "weights = e.get_weights()[0]\n",
        "print(weights.shape)"
      ],
      "id": "cKA6YPI7QsMo",
      "execution_count": 20,
      "outputs": [
        {
          "output_type": "stream",
          "name": "stdout",
          "text": [
            "(10000, 16)\n"
          ]
        }
      ]
    },
    {
      "cell_type": "code",
      "metadata": {
        "id": "537WTJJWQsQC"
      },
      "source": [
        "import io\n",
        "\n",
        "out_v = io.open('vecs_.tsv', 'w', encoding='utf-8')\n",
        "out_m = io.open('meta_.tsv', 'w', encoding='utf-8')\n",
        "for word_num in range(1, vocab_size):\n",
        "  word = reverse_word_index[word_num]\n",
        "  embeddings = weights[word_num]\n",
        "  out_m.write(word + \"\\n\")\n",
        "  out_v.write('\\t'.join([str(x) for x in embeddings]) + \"\\n\")\n",
        "out_v.close()\n",
        "out_m.close()"
      ],
      "id": "537WTJJWQsQC",
      "execution_count": 21,
      "outputs": []
    },
    {
      "cell_type": "code",
      "metadata": {
        "colab": {
          "base_uri": "https://localhost:8080/",
          "height": 17
        },
        "id": "65bk7Gy9jjxF",
        "outputId": "f81332d8-71c6-437b-9ed4-06e0e844e4b1"
      },
      "source": [
        "try:\n",
        "  from google.colab import files\n",
        "except ImportError:\n",
        "  pass\n",
        "else:\n",
        "  files.download('vecs_.tsv')\n",
        "  files.download('meta_.tsv')"
      ],
      "id": "65bk7Gy9jjxF",
      "execution_count": 23,
      "outputs": [
        {
          "output_type": "display_data",
          "data": {
            "application/javascript": [
              "\n",
              "    async function download(id, filename, size) {\n",
              "      if (!google.colab.kernel.accessAllowed) {\n",
              "        return;\n",
              "      }\n",
              "      const div = document.createElement('div');\n",
              "      const label = document.createElement('label');\n",
              "      label.textContent = `Downloading \"${filename}\": `;\n",
              "      div.appendChild(label);\n",
              "      const progress = document.createElement('progress');\n",
              "      progress.max = size;\n",
              "      div.appendChild(progress);\n",
              "      document.body.appendChild(div);\n",
              "\n",
              "      const buffers = [];\n",
              "      let downloaded = 0;\n",
              "\n",
              "      const channel = await google.colab.kernel.comms.open(id);\n",
              "      // Send a message to notify the kernel that we're ready.\n",
              "      channel.send({})\n",
              "\n",
              "      for await (const message of channel.messages) {\n",
              "        // Send a message to notify the kernel that we're ready.\n",
              "        channel.send({})\n",
              "        if (message.buffers) {\n",
              "          for (const buffer of message.buffers) {\n",
              "            buffers.push(buffer);\n",
              "            downloaded += buffer.byteLength;\n",
              "            progress.value = downloaded;\n",
              "          }\n",
              "        }\n",
              "      }\n",
              "      const blob = new Blob(buffers, {type: 'application/binary'});\n",
              "      const a = document.createElement('a');\n",
              "      a.href = window.URL.createObjectURL(blob);\n",
              "      a.download = filename;\n",
              "      div.appendChild(a);\n",
              "      a.click();\n",
              "      div.remove();\n",
              "    }\n",
              "  "
            ],
            "text/plain": [
              "<IPython.core.display.Javascript object>"
            ]
          },
          "metadata": {}
        },
        {
          "output_type": "display_data",
          "data": {
            "application/javascript": [
              "download(\"download_8e67a87d-50a3-43c5-bd02-57fd641f7498\", \"vecs_.tsv\", 1612417)"
            ],
            "text/plain": [
              "<IPython.core.display.Javascript object>"
            ]
          },
          "metadata": {}
        },
        {
          "output_type": "display_data",
          "data": {
            "application/javascript": [
              "\n",
              "    async function download(id, filename, size) {\n",
              "      if (!google.colab.kernel.accessAllowed) {\n",
              "        return;\n",
              "      }\n",
              "      const div = document.createElement('div');\n",
              "      const label = document.createElement('label');\n",
              "      label.textContent = `Downloading \"${filename}\": `;\n",
              "      div.appendChild(label);\n",
              "      const progress = document.createElement('progress');\n",
              "      progress.max = size;\n",
              "      div.appendChild(progress);\n",
              "      document.body.appendChild(div);\n",
              "\n",
              "      const buffers = [];\n",
              "      let downloaded = 0;\n",
              "\n",
              "      const channel = await google.colab.kernel.comms.open(id);\n",
              "      // Send a message to notify the kernel that we're ready.\n",
              "      channel.send({})\n",
              "\n",
              "      for await (const message of channel.messages) {\n",
              "        // Send a message to notify the kernel that we're ready.\n",
              "        channel.send({})\n",
              "        if (message.buffers) {\n",
              "          for (const buffer of message.buffers) {\n",
              "            buffers.push(buffer);\n",
              "            downloaded += buffer.byteLength;\n",
              "            progress.value = downloaded;\n",
              "          }\n",
              "        }\n",
              "      }\n",
              "      const blob = new Blob(buffers, {type: 'application/binary'});\n",
              "      const a = document.createElement('a');\n",
              "      a.href = window.URL.createObjectURL(blob);\n",
              "      a.download = filename;\n",
              "      div.appendChild(a);\n",
              "      a.click();\n",
              "      div.remove();\n",
              "    }\n",
              "  "
            ],
            "text/plain": [
              "<IPython.core.display.Javascript object>"
            ]
          },
          "metadata": {}
        },
        {
          "output_type": "display_data",
          "data": {
            "application/javascript": [
              "download(\"download_d9d22b18-2db9-454b-8fa5-7619d1ee7a25\", \"meta_.tsv\", 71685)"
            ],
            "text/plain": [
              "<IPython.core.display.Javascript object>"
            ]
          },
          "metadata": {}
        }
      ]
    },
    {
      "cell_type": "code",
      "metadata": {
        "id": "mSOT6NOQjw49"
      },
      "source": [
        ""
      ],
      "id": "mSOT6NOQjw49",
      "execution_count": null,
      "outputs": []
    }
  ]
}