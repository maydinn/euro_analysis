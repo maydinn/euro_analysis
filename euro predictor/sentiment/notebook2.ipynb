{
  "nbformat": 4,
  "nbformat_minor": 5,
  "metadata": {
    "kernelspec": {
      "display_name": "Python 3",
      "language": "python",
      "name": "python3"
    },
    "language_info": {
      "codemirror_mode": {
        "name": "ipython",
        "version": 3
      },
      "file_extension": ".py",
      "mimetype": "text/x-python",
      "name": "python",
      "nbconvert_exporter": "python",
      "pygments_lexer": "ipython3",
      "version": "3.8.8"
    },
    "colab": {
      "name": "notebook2.ipynb",
      "provenance": [],
      "collapsed_sections": []
    }
  },
  "cells": [
    {
      "cell_type": "code",
      "metadata": {
        "colab": {
          "base_uri": "https://localhost:8080/"
        },
        "id": "reo-tD-8Vq58",
        "outputId": "81f0e441-c7f8-4f99-9a1d-bf85e1b6d22d"
      },
      "source": [
        "from google.colab import drive\n",
        "drive.mount('/content/drive')"
      ],
      "id": "reo-tD-8Vq58",
      "execution_count": 1,
      "outputs": [
        {
          "output_type": "stream",
          "name": "stdout",
          "text": [
            "Mounted at /content/drive\n"
          ]
        }
      ]
    },
    {
      "cell_type": "code",
      "metadata": {
        "id": "12e87a4e"
      },
      "source": [
        "import tensorflow as tf\n",
        "from tensorflow.keras.preprocessing.text import Tokenizer\n",
        "from tensorflow.keras.preprocessing.sequence import pad_sequences\n",
        "from tensorflow.keras.utils import to_categorical\n",
        "from tensorflow.keras import regularizers"
      ],
      "id": "12e87a4e",
      "execution_count": 2,
      "outputs": []
    },
    {
      "cell_type": "code",
      "metadata": {
        "id": "708aa09c"
      },
      "source": [
        ""
      ],
      "id": "708aa09c",
      "execution_count": null,
      "outputs": []
    },
    {
      "cell_type": "code",
      "metadata": {
        "id": "78efa833"
      },
      "source": [
        "import pandas as pd\n",
        "import numpy as np"
      ],
      "id": "78efa833",
      "execution_count": 3,
      "outputs": []
    },
    {
      "cell_type": "code",
      "metadata": {
        "colab": {
          "base_uri": "https://localhost:8080/"
        },
        "id": "593ecce9",
        "outputId": "dc142241-b4dc-4fa2-ca87-88a0fc8c6b99"
      },
      "source": [
        "print(tf.__version__)"
      ],
      "id": "593ecce9",
      "execution_count": 4,
      "outputs": [
        {
          "output_type": "stream",
          "name": "stdout",
          "text": [
            "2.7.0\n"
          ]
        }
      ]
    },
    {
      "cell_type": "code",
      "metadata": {
        "scrolled": true,
        "colab": {
          "base_uri": "https://localhost:8080/",
          "height": 206
        },
        "id": "a7330034",
        "outputId": "d8e76ad6-aa3a-4b59-a149-e0de56eb52d4"
      },
      "source": [
        "df = pd.read_csv(\"/content/sample_data/data.csv\", index_col=0)\n",
        "\n",
        "df.head()"
      ],
      "id": "a7330034",
      "execution_count": 8,
      "outputs": [
        {
          "output_type": "execute_result",
          "data": {
            "text/html": [
              "<div>\n",
              "<style scoped>\n",
              "    .dataframe tbody tr th:only-of-type {\n",
              "        vertical-align: middle;\n",
              "    }\n",
              "\n",
              "    .dataframe tbody tr th {\n",
              "        vertical-align: top;\n",
              "    }\n",
              "\n",
              "    .dataframe thead th {\n",
              "        text-align: right;\n",
              "    }\n",
              "</style>\n",
              "<table border=\"1\" class=\"dataframe\">\n",
              "  <thead>\n",
              "    <tr style=\"text-align: right;\">\n",
              "      <th></th>\n",
              "      <th>main_text</th>\n",
              "      <th>target</th>\n",
              "      <th>text2</th>\n",
              "    </tr>\n",
              "  </thead>\n",
              "  <tbody>\n",
              "    <tr>\n",
              "      <th>0</th>\n",
              "      <td>Oil prices behind downward revisions to inflat...</td>\n",
              "      <td>1</td>\n",
              "      <td>oil price behind downward revision inflation e...</td>\n",
              "    </tr>\n",
              "    <tr>\n",
              "      <th>1</th>\n",
              "      <td>The European Central Bank (ECB) today publishe...</td>\n",
              "      <td>1</td>\n",
              "      <td>european central bank ecb today publishes dece...</td>\n",
              "    </tr>\n",
              "    <tr>\n",
              "      <th>2</th>\n",
              "      <td>353,000 counterfeit euro banknotes were withdr...</td>\n",
              "      <td>1</td>\n",
              "      <td>counterfeit euro banknote withdrawn circulatio...</td>\n",
              "    </tr>\n",
              "    <tr>\n",
              "      <th>3</th>\n",
              "      <td>The Governing Council of the European Central ...</td>\n",
              "      <td>1</td>\n",
              "      <td>governing council european central bank today ...</td>\n",
              "    </tr>\n",
              "    <tr>\n",
              "      <th>4</th>\n",
              "      <td>The Governing Council of the European Central ...</td>\n",
              "      <td>1</td>\n",
              "      <td>governing council european central bank ecb de...</td>\n",
              "    </tr>\n",
              "  </tbody>\n",
              "</table>\n",
              "</div>"
            ],
            "text/plain": [
              "                                           main_text  ...                                              text2\n",
              "0  Oil prices behind downward revisions to inflat...  ...  oil price behind downward revision inflation e...\n",
              "1  The European Central Bank (ECB) today publishe...  ...  european central bank ecb today publishes dece...\n",
              "2  353,000 counterfeit euro banknotes were withdr...  ...  counterfeit euro banknote withdrawn circulatio...\n",
              "3  The Governing Council of the European Central ...  ...  governing council european central bank today ...\n",
              "4  The Governing Council of the European Central ...  ...  governing council european central bank ecb de...\n",
              "\n",
              "[5 rows x 3 columns]"
            ]
          },
          "metadata": {},
          "execution_count": 8
        }
      ]
    },
    {
      "cell_type": "code",
      "metadata": {
        "colab": {
          "base_uri": "https://localhost:8080/"
        },
        "id": "137ebca3",
        "outputId": "e61dbbd1-e4f7-400f-c324-1349bd3321ff"
      },
      "source": [
        "df.info()"
      ],
      "id": "137ebca3",
      "execution_count": 9,
      "outputs": [
        {
          "output_type": "stream",
          "name": "stdout",
          "text": [
            "<class 'pandas.core.frame.DataFrame'>\n",
            "Int64Index: 1216 entries, 0 to 1215\n",
            "Data columns (total 3 columns):\n",
            " #   Column     Non-Null Count  Dtype \n",
            "---  ------     --------------  ----- \n",
            " 0   main_text  1215 non-null   object\n",
            " 1   target     1216 non-null   int64 \n",
            " 2   text2      1215 non-null   object\n",
            "dtypes: int64(1), object(2)\n",
            "memory usage: 38.0+ KB\n"
          ]
        }
      ]
    },
    {
      "cell_type": "code",
      "metadata": {
        "id": "eede8717"
      },
      "source": [
        "df.dropna(inplace=True)"
      ],
      "id": "eede8717",
      "execution_count": 10,
      "outputs": []
    },
    {
      "cell_type": "code",
      "metadata": {
        "colab": {
          "base_uri": "https://localhost:8080/"
        },
        "id": "7c22d0ea",
        "outputId": "a3d422b0-f91f-4b7c-ec13-183b264860dc"
      },
      "source": [
        "df.info()"
      ],
      "id": "7c22d0ea",
      "execution_count": 11,
      "outputs": [
        {
          "output_type": "stream",
          "name": "stdout",
          "text": [
            "<class 'pandas.core.frame.DataFrame'>\n",
            "Int64Index: 1215 entries, 0 to 1215\n",
            "Data columns (total 3 columns):\n",
            " #   Column     Non-Null Count  Dtype \n",
            "---  ------     --------------  ----- \n",
            " 0   main_text  1215 non-null   object\n",
            " 1   target     1215 non-null   int64 \n",
            " 2   text2      1215 non-null   object\n",
            "dtypes: int64(1), object(2)\n",
            "memory usage: 38.0+ KB\n"
          ]
        }
      ]
    },
    {
      "cell_type": "code",
      "metadata": {
        "id": "npG3pS58GaXj"
      },
      "source": [
        "df.dropna(inplace=True)"
      ],
      "id": "npG3pS58GaXj",
      "execution_count": 12,
      "outputs": []
    },
    {
      "cell_type": "code",
      "metadata": {
        "id": "58c88cbd"
      },
      "source": [
        "df = df.sample(1215)"
      ],
      "id": "58c88cbd",
      "execution_count": 13,
      "outputs": []
    },
    {
      "cell_type": "code",
      "metadata": {
        "id": "249f92e6"
      },
      "source": [
        "embedding_dim = 100\n",
        "max_length = 160\n",
        "trunc_type='post'\n",
        "padding_type='post'\n",
        "oov_tok = \"<OOV>\"\n",
        "training_size= 1215\n",
        "test_portion=.1\n",
        "\n",
        "corpus = []"
      ],
      "id": "249f92e6",
      "execution_count": 14,
      "outputs": []
    },
    {
      "cell_type": "code",
      "metadata": {
        "colab": {
          "base_uri": "https://localhost:8080/"
        },
        "id": "5fbf1390",
        "outputId": "efee414f-fbc3-4e68-9613-140db9b3c336"
      },
      "source": [
        "sentences = df.text2.to_list()\n",
        "type(sentences)"
      ],
      "id": "5fbf1390",
      "execution_count": 15,
      "outputs": [
        {
          "output_type": "execute_result",
          "data": {
            "text/plain": [
              "list"
            ]
          },
          "metadata": {},
          "execution_count": 15
        }
      ]
    },
    {
      "cell_type": "code",
      "metadata": {
        "colab": {
          "base_uri": "https://localhost:8080/",
          "height": 140
        },
        "id": "5ffb022e",
        "outputId": "2ccc818e-670d-4cfd-a8b0-f1c72cd6f049"
      },
      "source": [
        "sentences[0]"
      ],
      "id": "5ffb022e",
      "execution_count": 16,
      "outputs": [
        {
          "output_type": "execute_result",
          "data": {
            "application/vnd.google.colaboratory.intrinsic+json": {
              "type": "string"
            },
            "text/plain": [
              "'joint statement european commission european central bank european commission commission european central bank ecb share common vision single euro payment area sepa process leading realisation institution closely process encourage european banking industry relevant stakeholder create technical condition realisation single euro payment area end vision commission ecb see sepa integrated market payment service subject effective competition distinction national payment within euro area call removal technical legal commercial barrier current national payment market introduction euro single currency euro area completed sepa become reality consumer business government able make cashless payment throughout euro area single payment account anywhere euro area using single set payment instrument easily efficiently safely make payment today domestic context creating open common standard overcome technical commercial barrier fostering effective competition improved payment service level benefit service namely consumer business government transparent price cost efficient service sepa allow payment industry become efficient thereby providing significant saving benefit wider european economy facilitating attainment full potential sepa process call continuous improvement payment service offering product easy efficient safe today national level requires anticipate modern payment system look end decade continuous improvement service level sepa must embracing enabling realisation new technological opportunity addition core sepa product currently developed new opportunity provide major benefit standardisation payment service processing critical therefore essential user particular corporation relevant stakeholder involved standard setting process milestone significant progress towards sepa already achieved european payment council epc towards establishment scheme framework necessary standard underlying sepa commission ecb take opportunity stress support objective set epc january eu citizen enterprise public administration possibility use sepa credit transfer sepa direct debit payment instrument defined epc technical barrier acceptance point sale cash withdrawal card payment euro removed addition appropriate technical contractual provision standard defined ensure interoperability necessary condition infrastructure become compliant place minimum call open common standard available eu processing service infrastructure provider euro payment prepare interoperability effective competition addition commission ecb stress important relevant stakeholder particular public sector contribute achieving sepa showing political support becoming early adopter sepa product public sector play vital role success sepa commission ecb also support scheme framework agreed upon epc march basis sepa product introduced commission ecb attach great importance work epc enhance scheme framework future order keep meeting user requirement ensure service level improve continuously perspective commission ecb welcome start dialogue epc well commitment involve stakeholder openly future also welcome commitment work together standard necessary make sepa attractive stakeholder delivery sepa instrument first step since introduction instrument mere payment solution would result genuinely integrated market level euro area particular critical mass national credit transfer direct debit card payment migrated sepa payment instrument end step necessary order ensure widespread adoption new efficient sepa instrument service level sepa instrument least good existing national instrument preferably better allow migration sepa instrument commission ecb support greatest possible extent continued industry given importance size social economic benefit sepa commission expressly reserve right introduce propose necessary legislation achieve contact european central bank directorate general communication sonnemannstrasse'"
            ]
          },
          "metadata": {},
          "execution_count": 16
        }
      ]
    },
    {
      "cell_type": "code",
      "metadata": {
        "id": "18602030"
      },
      "source": [
        "tokenizer = Tokenizer()\n",
        "tokenizer.fit_on_texts(sentences)# YOUR CODE HERE)"
      ],
      "id": "18602030",
      "execution_count": 17,
      "outputs": []
    },
    {
      "cell_type": "code",
      "metadata": {
        "id": "b0f05201"
      },
      "source": [
        "word_index = tokenizer.word_index\n",
        "vocab_size=len(word_index)"
      ],
      "id": "b0f05201",
      "execution_count": 18,
      "outputs": []
    },
    {
      "cell_type": "code",
      "metadata": {
        "id": "899f8d56"
      },
      "source": [
        "sequences = tokenizer.texts_to_sequences(sentences)# YOUR CODE HERE)\n",
        "padded = pad_sequences(sequences, maxlen=max_length, padding=padding_type, truncating=trunc_type)"
      ],
      "id": "899f8d56",
      "execution_count": 19,
      "outputs": []
    },
    {
      "cell_type": "code",
      "metadata": {
        "id": "167def95"
      },
      "source": [
        "split = int(test_portion * training_size)"
      ],
      "id": "167def95",
      "execution_count": 20,
      "outputs": []
    },
    {
      "cell_type": "code",
      "metadata": {
        "id": "4bf08312"
      },
      "source": [
        "labels = df.target.to_list()"
      ],
      "id": "4bf08312",
      "execution_count": 21,
      "outputs": []
    },
    {
      "cell_type": "code",
      "metadata": {
        "id": "7b8b44b1"
      },
      "source": [
        "test_sequences = padded[0:split]# YOUR CODE HERE)\n",
        "training_sequences = padded[split:training_size]# YOUR CODE HERE)\n",
        "test_labels = labels[0:split]# YOUR CODE HERE)\n",
        "training_labels = labels[split:training_size]# YOUR CODE HERE)"
      ],
      "id": "7b8b44b1",
      "execution_count": 22,
      "outputs": []
    },
    {
      "cell_type": "code",
      "metadata": {
        "colab": {
          "base_uri": "https://localhost:8080/"
        },
        "id": "4hRaLaohXWmI",
        "outputId": "9f90cb94-c6b1-4b43-8a8c-73b3cc5208bb"
      },
      "source": [
        "test_labels.count(0)\n"
      ],
      "id": "4hRaLaohXWmI",
      "execution_count": 23,
      "outputs": [
        {
          "output_type": "execute_result",
          "data": {
            "text/plain": [
              "68"
            ]
          },
          "metadata": {},
          "execution_count": 23
        }
      ]
    },
    {
      "cell_type": "code",
      "metadata": {
        "id": "9c76c91f",
        "colab": {
          "base_uri": "https://localhost:8080/"
        },
        "outputId": "5246c1ab-47ac-487b-fb62-d966663ab3e3"
      },
      "source": [
        "!gdown --id 1W5vZy2etitAblLdFn8_DxnsQKzfFJ98g\n",
        "\n",
        "embeddings_index = {};\n",
        "with open('./glove.6B.100d.txt') as f:\n",
        "    for line in f:\n",
        "        values = line.split();\n",
        "        word = values[0];\n",
        "        coefs = np.asarray(values[1:], dtype='float32');\n",
        "        embeddings_index[word] = coefs;\n",
        "\n",
        "embeddings_matrix = np.zeros((vocab_size+1, embedding_dim));\n",
        "for word, i in word_index.items():\n",
        "    embedding_vector = embeddings_index.get(word);\n",
        "    if embedding_vector is not None:\n",
        "        embeddings_matrix[i] = embedding_vector;"
      ],
      "id": "9c76c91f",
      "execution_count": 24,
      "outputs": [
        {
          "output_type": "stream",
          "name": "stdout",
          "text": [
            "Downloading...\n",
            "From: https://drive.google.com/uc?id=1W5vZy2etitAblLdFn8_DxnsQKzfFJ98g\n",
            "To: /content/glove.6B.100d.txt\n",
            "100% 347M/347M [00:04<00:00, 71.0MB/s]\n"
          ]
        }
      ]
    },
    {
      "cell_type": "code",
      "metadata": {
        "colab": {
          "base_uri": "https://localhost:8080/"
        },
        "id": "b70a33a3",
        "outputId": "46451f01-dc1f-4174-b216-731f9b4b0d87"
      },
      "source": [
        "model = tf.keras.Sequential([\n",
        "    # YOUR CODE HERE\n",
        "    tf.keras.layers.Embedding(vocab_size+1, embedding_dim, input_length=max_length, weights=[embeddings_matrix], trainable=False),\n",
        "    tf.keras.layers.Conv1D(128, 5, activation='relu'),\n",
        "    tf.keras.layers.MaxPooling1D(pool_size=4),\n",
        "    tf.keras.layers.LSTM(64,activation='relu',return_sequences=True),\n",
        "    tf.keras.layers.LSTM(32, activation='relu', return_sequences=False),\n",
        "    tf.keras.layers.Dropout(0.4),\n",
        "    tf.keras.layers.Dense(1, activation='sigmoid')\n",
        "])\n",
        "model.compile(loss='binary_crossentropy',optimizer='adam',metrics=['accuracy'])# YOUR CODE HERE)\n",
        "model.summary()\n",
        "\n",
        "num_epochs = 100\n",
        "\n",
        "training_padded = np.array(training_sequences)\n",
        "training_labels = np.array(training_labels)\n",
        "testing_padded = np.array(test_sequences)\n",
        "testing_labels = np.array(test_labels)\n",
        "\n",
        "history = model.fit(training_padded, training_labels, epochs=num_epochs, validation_data=(testing_padded, testing_labels), verbose=2)\n",
        "\n",
        "print(\"Training Complete\")"
      ],
      "id": "b70a33a3",
      "execution_count": 26,
      "outputs": [
        {
          "output_type": "stream",
          "name": "stdout",
          "text": [
            "Model: \"sequential_1\"\n",
            "_________________________________________________________________\n",
            " Layer (type)                Output Shape              Param #   \n",
            "=================================================================\n",
            " embedding_1 (Embedding)     (None, 160, 100)          878400    \n",
            "                                                                 \n",
            " conv1d_1 (Conv1D)           (None, 156, 128)          64128     \n",
            "                                                                 \n",
            " max_pooling1d_1 (MaxPooling  (None, 39, 128)          0         \n",
            " 1D)                                                             \n",
            "                                                                 \n",
            " lstm_2 (LSTM)               (None, 39, 64)            49408     \n",
            "                                                                 \n",
            " lstm_3 (LSTM)               (None, 32)                12416     \n",
            "                                                                 \n",
            " dropout_1 (Dropout)         (None, 32)                0         \n",
            "                                                                 \n",
            " dense_1 (Dense)             (None, 1)                 33        \n",
            "                                                                 \n",
            "=================================================================\n",
            "Total params: 1,004,385\n",
            "Trainable params: 125,985\n",
            "Non-trainable params: 878,400\n",
            "_________________________________________________________________\n",
            "Epoch 1/100\n",
            "35/35 - 5s - loss: 0.6972 - accuracy: 0.5128 - val_loss: 0.6970 - val_accuracy: 0.5289 - 5s/epoch - 150ms/step\n",
            "Epoch 2/100\n",
            "35/35 - 3s - loss: 0.6926 - accuracy: 0.5091 - val_loss: 0.6922 - val_accuracy: 0.5289 - 3s/epoch - 75ms/step\n",
            "Epoch 3/100\n",
            "35/35 - 3s - loss: 0.6919 - accuracy: 0.5274 - val_loss: 0.6896 - val_accuracy: 0.5785 - 3s/epoch - 73ms/step\n",
            "Epoch 4/100\n",
            "35/35 - 3s - loss: 0.6889 - accuracy: 0.5420 - val_loss: 0.6877 - val_accuracy: 0.5868 - 3s/epoch - 74ms/step\n",
            "Epoch 5/100\n",
            "35/35 - 3s - loss: 0.6872 - accuracy: 0.5338 - val_loss: 0.6881 - val_accuracy: 0.5785 - 3s/epoch - 74ms/step\n",
            "Epoch 6/100\n",
            "35/35 - 3s - loss: 0.6805 - accuracy: 0.5521 - val_loss: 0.6944 - val_accuracy: 0.5702 - 3s/epoch - 74ms/step\n",
            "Epoch 7/100\n",
            "35/35 - 3s - loss: 0.6873 - accuracy: 0.5512 - val_loss: 0.6896 - val_accuracy: 0.5620 - 3s/epoch - 74ms/step\n",
            "Epoch 8/100\n",
            "35/35 - 3s - loss: 0.6768 - accuracy: 0.5530 - val_loss: 0.6953 - val_accuracy: 0.5289 - 3s/epoch - 74ms/step\n",
            "Epoch 9/100\n",
            "35/35 - 3s - loss: 0.6703 - accuracy: 0.5722 - val_loss: 0.6848 - val_accuracy: 0.5785 - 3s/epoch - 73ms/step\n",
            "Epoch 10/100\n",
            "35/35 - 3s - loss: 0.6774 - accuracy: 0.5868 - val_loss: 0.7487 - val_accuracy: 0.5537 - 3s/epoch - 73ms/step\n",
            "Epoch 11/100\n",
            "35/35 - 3s - loss: 0.6541 - accuracy: 0.6060 - val_loss: 0.8376 - val_accuracy: 0.5868 - 3s/epoch - 73ms/step\n",
            "Epoch 12/100\n",
            "35/35 - 3s - loss: 0.7639 - accuracy: 0.6371 - val_loss: 0.8284 - val_accuracy: 0.5702 - 3s/epoch - 73ms/step\n",
            "Epoch 13/100\n",
            "35/35 - 3s - loss: 0.6665 - accuracy: 0.5658 - val_loss: 0.8055 - val_accuracy: 0.5785 - 3s/epoch - 72ms/step\n",
            "Epoch 14/100\n",
            "35/35 - 3s - loss: 0.6199 - accuracy: 0.6362 - val_loss: 1.8173 - val_accuracy: 0.5785 - 3s/epoch - 74ms/step\n",
            "Epoch 15/100\n",
            "35/35 - 3s - loss: 0.5927 - accuracy: 0.6691 - val_loss: 1.5873 - val_accuracy: 0.5537 - 3s/epoch - 73ms/step\n",
            "Epoch 16/100\n",
            "35/35 - 3s - loss: 0.5396 - accuracy: 0.6993 - val_loss: 1.5330 - val_accuracy: 0.5455 - 3s/epoch - 75ms/step\n",
            "Epoch 17/100\n",
            "35/35 - 3s - loss: 0.4677 - accuracy: 0.7413 - val_loss: 2.0815 - val_accuracy: 0.5455 - 3s/epoch - 75ms/step\n",
            "Epoch 18/100\n",
            "35/35 - 3s - loss: 0.4868 - accuracy: 0.7313 - val_loss: 1.5065 - val_accuracy: 0.5372 - 3s/epoch - 74ms/step\n",
            "Epoch 19/100\n",
            "35/35 - 2s - loss: 0.4315 - accuracy: 0.7578 - val_loss: 1.1169 - val_accuracy: 0.5785 - 2s/epoch - 71ms/step\n",
            "Epoch 20/100\n",
            "35/35 - 3s - loss: 0.3816 - accuracy: 0.7943 - val_loss: 0.9497 - val_accuracy: 0.5950 - 3s/epoch - 76ms/step\n",
            "Epoch 21/100\n",
            "35/35 - 3s - loss: 0.3751 - accuracy: 0.8016 - val_loss: 1.6229 - val_accuracy: 0.5620 - 3s/epoch - 77ms/step\n",
            "Epoch 22/100\n",
            "35/35 - 3s - loss: 0.3432 - accuracy: 0.8035 - val_loss: 1.4824 - val_accuracy: 0.5702 - 3s/epoch - 73ms/step\n",
            "Epoch 23/100\n",
            "35/35 - 3s - loss: 0.3056 - accuracy: 0.8208 - val_loss: 1.4293 - val_accuracy: 0.5785 - 3s/epoch - 74ms/step\n",
            "Epoch 24/100\n",
            "35/35 - 3s - loss: 0.2813 - accuracy: 0.8355 - val_loss: 2.0384 - val_accuracy: 0.5207 - 3s/epoch - 73ms/step\n",
            "Epoch 25/100\n",
            "35/35 - 3s - loss: 0.3014 - accuracy: 0.8199 - val_loss: 1.9407 - val_accuracy: 0.5785 - 3s/epoch - 73ms/step\n",
            "Epoch 26/100\n",
            "35/35 - 3s - loss: 0.3234 - accuracy: 0.8199 - val_loss: 1.6013 - val_accuracy: 0.5868 - 3s/epoch - 75ms/step\n",
            "Epoch 27/100\n",
            "35/35 - 3s - loss: 0.2845 - accuracy: 0.8272 - val_loss: 2.2537 - val_accuracy: 0.5537 - 3s/epoch - 73ms/step\n",
            "Epoch 28/100\n",
            "35/35 - 3s - loss: 0.2611 - accuracy: 0.8501 - val_loss: 2.0113 - val_accuracy: 0.4959 - 3s/epoch - 73ms/step\n",
            "Epoch 29/100\n",
            "35/35 - 3s - loss: 0.2611 - accuracy: 0.8528 - val_loss: 2.2439 - val_accuracy: 0.5455 - 3s/epoch - 72ms/step\n",
            "Epoch 30/100\n",
            "35/35 - 3s - loss: 0.2386 - accuracy: 0.8748 - val_loss: 1.4695 - val_accuracy: 0.5620 - 3s/epoch - 72ms/step\n",
            "Epoch 31/100\n",
            "35/35 - 2s - loss: 0.2267 - accuracy: 0.8803 - val_loss: 2.1397 - val_accuracy: 0.5537 - 2s/epoch - 71ms/step\n",
            "Epoch 32/100\n",
            "35/35 - 3s - loss: 0.2382 - accuracy: 0.8821 - val_loss: 2.0004 - val_accuracy: 0.5124 - 3s/epoch - 73ms/step\n",
            "Epoch 33/100\n",
            "35/35 - 3s - loss: 0.2224 - accuracy: 0.8967 - val_loss: 1.7541 - val_accuracy: 0.5868 - 3s/epoch - 72ms/step\n",
            "Epoch 34/100\n",
            "35/35 - 3s - loss: 0.1908 - accuracy: 0.9013 - val_loss: 2.4582 - val_accuracy: 0.5537 - 3s/epoch - 73ms/step\n",
            "Epoch 35/100\n",
            "35/35 - 3s - loss: 0.4791 - accuracy: 0.7989 - val_loss: 0.8219 - val_accuracy: 0.4215 - 3s/epoch - 72ms/step\n",
            "Epoch 36/100\n",
            "35/35 - 3s - loss: 0.5326 - accuracy: 0.7139 - val_loss: 0.8403 - val_accuracy: 0.5537 - 3s/epoch - 72ms/step\n",
            "Epoch 37/100\n",
            "35/35 - 3s - loss: 0.4223 - accuracy: 0.7907 - val_loss: 0.9869 - val_accuracy: 0.5372 - 3s/epoch - 74ms/step\n",
            "Epoch 38/100\n",
            "35/35 - 3s - loss: 0.3292 - accuracy: 0.8190 - val_loss: 1.1299 - val_accuracy: 0.5950 - 3s/epoch - 75ms/step\n",
            "Epoch 39/100\n",
            "35/35 - 3s - loss: 0.2647 - accuracy: 0.8455 - val_loss: 1.4364 - val_accuracy: 0.6033 - 3s/epoch - 73ms/step\n",
            "Epoch 40/100\n",
            "35/35 - 3s - loss: 0.2606 - accuracy: 0.8638 - val_loss: 1.3643 - val_accuracy: 0.5785 - 3s/epoch - 74ms/step\n",
            "Epoch 41/100\n",
            "35/35 - 3s - loss: 0.2039 - accuracy: 0.8958 - val_loss: 1.5876 - val_accuracy: 0.5868 - 3s/epoch - 73ms/step\n",
            "Epoch 42/100\n",
            "35/35 - 3s - loss: 0.1965 - accuracy: 0.8995 - val_loss: 1.6610 - val_accuracy: 0.5620 - 3s/epoch - 76ms/step\n",
            "Epoch 43/100\n",
            "35/35 - 3s - loss: 0.2114 - accuracy: 0.8985 - val_loss: 2.5654 - val_accuracy: 0.5372 - 3s/epoch - 77ms/step\n",
            "Epoch 44/100\n",
            "35/35 - 3s - loss: 0.1960 - accuracy: 0.9104 - val_loss: 1.5663 - val_accuracy: 0.5702 - 3s/epoch - 73ms/step\n",
            "Epoch 45/100\n",
            "35/35 - 3s - loss: 0.1766 - accuracy: 0.9113 - val_loss: 1.7656 - val_accuracy: 0.5702 - 3s/epoch - 72ms/step\n",
            "Epoch 46/100\n",
            "35/35 - 3s - loss: 0.1544 - accuracy: 0.9232 - val_loss: 1.9753 - val_accuracy: 0.5455 - 3s/epoch - 75ms/step\n",
            "Epoch 47/100\n",
            "35/35 - 3s - loss: 0.1956 - accuracy: 0.9132 - val_loss: 1.5271 - val_accuracy: 0.5455 - 3s/epoch - 74ms/step\n",
            "Epoch 48/100\n",
            "35/35 - 3s - loss: 0.1822 - accuracy: 0.9168 - val_loss: 1.9967 - val_accuracy: 0.5372 - 3s/epoch - 73ms/step\n",
            "Epoch 49/100\n",
            "35/35 - 3s - loss: 0.1548 - accuracy: 0.9241 - val_loss: 1.9685 - val_accuracy: 0.5289 - 3s/epoch - 73ms/step\n",
            "Epoch 50/100\n",
            "35/35 - 3s - loss: 0.1794 - accuracy: 0.9223 - val_loss: 1.4517 - val_accuracy: 0.6033 - 3s/epoch - 73ms/step\n",
            "Epoch 51/100\n",
            "35/35 - 3s - loss: 0.1587 - accuracy: 0.9232 - val_loss: 1.9842 - val_accuracy: 0.6116 - 3s/epoch - 72ms/step\n",
            "Epoch 52/100\n",
            "35/35 - 3s - loss: 0.1457 - accuracy: 0.9278 - val_loss: 1.8487 - val_accuracy: 0.5950 - 3s/epoch - 73ms/step\n",
            "Epoch 53/100\n",
            "35/35 - 3s - loss: 0.1501 - accuracy: 0.9232 - val_loss: 2.0807 - val_accuracy: 0.5207 - 3s/epoch - 75ms/step\n",
            "Epoch 54/100\n",
            "35/35 - 3s - loss: 0.1431 - accuracy: 0.9278 - val_loss: 2.1461 - val_accuracy: 0.5372 - 3s/epoch - 73ms/step\n",
            "Epoch 55/100\n",
            "35/35 - 3s - loss: 1.6447 - accuracy: 0.6755 - val_loss: 0.7615 - val_accuracy: 0.4132 - 3s/epoch - 73ms/step\n",
            "Epoch 56/100\n",
            "35/35 - 3s - loss: 0.7101 - accuracy: 0.5503 - val_loss: 0.7016 - val_accuracy: 0.5041 - 3s/epoch - 72ms/step\n",
            "Epoch 57/100\n",
            "35/35 - 3s - loss: 0.6702 - accuracy: 0.5795 - val_loss: 0.7901 - val_accuracy: 0.4628 - 3s/epoch - 74ms/step\n",
            "Epoch 58/100\n",
            "35/35 - 3s - loss: 0.6589 - accuracy: 0.5923 - val_loss: 0.7197 - val_accuracy: 0.5041 - 3s/epoch - 73ms/step\n",
            "Epoch 59/100\n",
            "35/35 - 3s - loss: 0.6606 - accuracy: 0.5978 - val_loss: 0.7454 - val_accuracy: 0.4628 - 3s/epoch - 72ms/step\n",
            "Epoch 60/100\n",
            "35/35 - 3s - loss: 0.6414 - accuracy: 0.6261 - val_loss: 0.7401 - val_accuracy: 0.4793 - 3s/epoch - 72ms/step\n",
            "Epoch 61/100\n",
            "35/35 - 3s - loss: 0.6204 - accuracy: 0.6335 - val_loss: 0.8414 - val_accuracy: 0.5124 - 3s/epoch - 73ms/step\n",
            "Epoch 62/100\n",
            "35/35 - 3s - loss: 0.5915 - accuracy: 0.6700 - val_loss: 0.8843 - val_accuracy: 0.5372 - 3s/epoch - 72ms/step\n",
            "Epoch 63/100\n",
            "35/35 - 3s - loss: 0.5390 - accuracy: 0.7121 - val_loss: 1.0598 - val_accuracy: 0.5124 - 3s/epoch - 74ms/step\n",
            "Epoch 64/100\n",
            "35/35 - 3s - loss: 0.5310 - accuracy: 0.7048 - val_loss: 0.8809 - val_accuracy: 0.4876 - 3s/epoch - 75ms/step\n",
            "Epoch 65/100\n",
            "35/35 - 3s - loss: 0.4408 - accuracy: 0.7861 - val_loss: 1.1558 - val_accuracy: 0.5041 - 3s/epoch - 87ms/step\n",
            "Epoch 66/100\n",
            "35/35 - 3s - loss: 0.4199 - accuracy: 0.7943 - val_loss: 1.1145 - val_accuracy: 0.5207 - 3s/epoch - 87ms/step\n",
            "Epoch 67/100\n",
            "35/35 - 4s - loss: 0.3675 - accuracy: 0.8254 - val_loss: 1.1654 - val_accuracy: 0.5207 - 4s/epoch - 105ms/step\n",
            "Epoch 68/100\n",
            "35/35 - 3s - loss: 0.3025 - accuracy: 0.8565 - val_loss: 1.4121 - val_accuracy: 0.5041 - 3s/epoch - 77ms/step\n",
            "Epoch 69/100\n",
            "35/35 - 3s - loss: 0.2561 - accuracy: 0.8793 - val_loss: 1.5783 - val_accuracy: 0.5041 - 3s/epoch - 75ms/step\n",
            "Epoch 70/100\n",
            "35/35 - 3s - loss: 0.2374 - accuracy: 0.8839 - val_loss: 1.5611 - val_accuracy: 0.5455 - 3s/epoch - 74ms/step\n",
            "Epoch 71/100\n",
            "35/35 - 3s - loss: 0.2295 - accuracy: 0.8803 - val_loss: 1.5643 - val_accuracy: 0.5455 - 3s/epoch - 75ms/step\n",
            "Epoch 72/100\n",
            "35/35 - 3s - loss: 0.2208 - accuracy: 0.8876 - val_loss: 1.8825 - val_accuracy: 0.5124 - 3s/epoch - 73ms/step\n",
            "Epoch 73/100\n",
            "35/35 - 3s - loss: 0.2061 - accuracy: 0.8931 - val_loss: 1.5913 - val_accuracy: 0.6198 - 3s/epoch - 74ms/step\n",
            "Epoch 74/100\n",
            "35/35 - 3s - loss: 0.1837 - accuracy: 0.9004 - val_loss: 1.9022 - val_accuracy: 0.5620 - 3s/epoch - 73ms/step\n",
            "Epoch 75/100\n",
            "35/35 - 3s - loss: 0.1639 - accuracy: 0.9150 - val_loss: 1.9003 - val_accuracy: 0.5537 - 3s/epoch - 74ms/step\n",
            "Epoch 76/100\n",
            "35/35 - 3s - loss: 0.1704 - accuracy: 0.9095 - val_loss: 2.6273 - val_accuracy: 0.5537 - 3s/epoch - 75ms/step\n",
            "Epoch 77/100\n",
            "35/35 - 3s - loss: 0.2463 - accuracy: 0.8775 - val_loss: 1.4781 - val_accuracy: 0.5537 - 3s/epoch - 74ms/step\n",
            "Epoch 78/100\n",
            "35/35 - 3s - loss: 0.2165 - accuracy: 0.9013 - val_loss: 2.0882 - val_accuracy: 0.5372 - 3s/epoch - 75ms/step\n",
            "Epoch 79/100\n",
            "35/35 - 3s - loss: 0.1869 - accuracy: 0.9132 - val_loss: 2.1834 - val_accuracy: 0.4959 - 3s/epoch - 72ms/step\n",
            "Epoch 80/100\n",
            "35/35 - 3s - loss: 0.1502 - accuracy: 0.9241 - val_loss: 2.1757 - val_accuracy: 0.5372 - 3s/epoch - 72ms/step\n",
            "Epoch 81/100\n",
            "35/35 - 3s - loss: 0.1368 - accuracy: 0.9260 - val_loss: 2.1451 - val_accuracy: 0.5620 - 3s/epoch - 73ms/step\n",
            "Epoch 82/100\n",
            "35/35 - 3s - loss: 0.1268 - accuracy: 0.9342 - val_loss: 3.0542 - val_accuracy: 0.5455 - 3s/epoch - 74ms/step\n",
            "Epoch 83/100\n",
            "35/35 - 3s - loss: 0.1161 - accuracy: 0.9424 - val_loss: 3.2842 - val_accuracy: 0.5537 - 3s/epoch - 77ms/step\n",
            "Epoch 84/100\n",
            "35/35 - 3s - loss: 0.1293 - accuracy: 0.9360 - val_loss: 2.8348 - val_accuracy: 0.5289 - 3s/epoch - 74ms/step\n",
            "Epoch 85/100\n",
            "35/35 - 3s - loss: 0.1433 - accuracy: 0.9305 - val_loss: 2.3772 - val_accuracy: 0.5620 - 3s/epoch - 74ms/step\n",
            "Epoch 86/100\n",
            "35/35 - 3s - loss: 0.1384 - accuracy: 0.9296 - val_loss: 3.4635 - val_accuracy: 0.5289 - 3s/epoch - 78ms/step\n",
            "Epoch 87/100\n",
            "35/35 - 3s - loss: 0.1350 - accuracy: 0.9397 - val_loss: 2.3258 - val_accuracy: 0.5537 - 3s/epoch - 72ms/step\n",
            "Epoch 88/100\n",
            "35/35 - 3s - loss: 0.1503 - accuracy: 0.9278 - val_loss: 1.9919 - val_accuracy: 0.5702 - 3s/epoch - 73ms/step\n",
            "Epoch 89/100\n",
            "35/35 - 3s - loss: 0.1356 - accuracy: 0.9296 - val_loss: 2.6222 - val_accuracy: 0.5620 - 3s/epoch - 75ms/step\n",
            "Epoch 90/100\n",
            "35/35 - 3s - loss: 0.1174 - accuracy: 0.9388 - val_loss: 2.5572 - val_accuracy: 0.5702 - 3s/epoch - 76ms/step\n",
            "Epoch 91/100\n",
            "35/35 - 3s - loss: 0.1072 - accuracy: 0.9461 - val_loss: 2.6924 - val_accuracy: 0.5289 - 3s/epoch - 75ms/step\n",
            "Epoch 92/100\n",
            "35/35 - 3s - loss: 0.1335 - accuracy: 0.9324 - val_loss: 2.7112 - val_accuracy: 0.5041 - 3s/epoch - 73ms/step\n",
            "Epoch 93/100\n",
            "35/35 - 3s - loss: 0.1587 - accuracy: 0.9232 - val_loss: 1.8762 - val_accuracy: 0.5537 - 3s/epoch - 72ms/step\n",
            "Epoch 94/100\n",
            "35/35 - 3s - loss: 0.1120 - accuracy: 0.9397 - val_loss: 2.6960 - val_accuracy: 0.5620 - 3s/epoch - 73ms/step\n",
            "Epoch 95/100\n",
            "35/35 - 3s - loss: 0.0999 - accuracy: 0.9470 - val_loss: 3.0171 - val_accuracy: 0.5868 - 3s/epoch - 73ms/step\n",
            "Epoch 96/100\n",
            "35/35 - 3s - loss: 0.0890 - accuracy: 0.9516 - val_loss: 3.9757 - val_accuracy: 0.5702 - 3s/epoch - 72ms/step\n",
            "Epoch 97/100\n",
            "35/35 - 2s - loss: 0.1146 - accuracy: 0.9406 - val_loss: 2.5383 - val_accuracy: 0.5620 - 2s/epoch - 71ms/step\n",
            "Epoch 98/100\n",
            "35/35 - 3s - loss: 0.1333 - accuracy: 0.9324 - val_loss: 2.5142 - val_accuracy: 0.5785 - 3s/epoch - 73ms/step\n",
            "Epoch 99/100\n",
            "35/35 - 3s - loss: 0.1056 - accuracy: 0.9442 - val_loss: 2.9226 - val_accuracy: 0.5950 - 3s/epoch - 73ms/step\n",
            "Epoch 100/100\n",
            "35/35 - 3s - loss: 0.1253 - accuracy: 0.9360 - val_loss: 2.7404 - val_accuracy: 0.5289 - 3s/epoch - 72ms/step\n",
            "Training Complete\n"
          ]
        }
      ]
    },
    {
      "cell_type": "code",
      "metadata": {
        "id": "7sWUuAImYuZH"
      },
      "source": [
        "reverse_word_index = dict([(value, key) for (key, value) in word_index.items()])\n",
        "\n",
        "def decode_sentence(text):\n",
        "    return ' '.join([reverse_word_index.get(i, '?') for i in text])\n"
      ],
      "id": "7sWUuAImYuZH",
      "execution_count": 27,
      "outputs": []
    },
    {
      "cell_type": "code",
      "metadata": {
        "colab": {
          "base_uri": "https://localhost:8080/"
        },
        "id": "9ApxMXyaIwQm",
        "outputId": "04c968c6-be57-4564-a74f-33e930c1a047"
      },
      "source": [
        "e = model.layers[0]\n",
        "weights = e.get_weights()[0]\n",
        "print(weights.shape) "
      ],
      "id": "9ApxMXyaIwQm",
      "execution_count": 28,
      "outputs": [
        {
          "output_type": "stream",
          "name": "stdout",
          "text": [
            "(8784, 100)\n"
          ]
        }
      ]
    },
    {
      "cell_type": "code",
      "metadata": {
        "id": "cykIQqmPIykS"
      },
      "source": [
        "import io\n",
        "\n",
        "out_v = io.open('vecs.tsv', 'w', encoding='utf-8')\n",
        "out_m = io.open('meta.tsv', 'w', encoding='utf-8')\n",
        "for word_num in range(1, vocab_size):\n",
        "  word = reverse_word_index[word_num]\n",
        "  embeddings = weights[word_num]\n",
        "  out_m.write(word + \"\\n\")\n",
        "  out_v.write('\\t'.join([str(x) for x in embeddings]) + \"\\n\")\n",
        "out_v.close()\n",
        "out_m.close()"
      ],
      "id": "cykIQqmPIykS",
      "execution_count": 29,
      "outputs": []
    },
    {
      "cell_type": "code",
      "metadata": {
        "colab": {
          "base_uri": "https://localhost:8080/",
          "height": 17
        },
        "id": "19au6h-kI7_f",
        "outputId": "de0114e6-0899-4959-d4d4-ea227aad19e8"
      },
      "source": [
        "try:\n",
        "  from google.colab import files\n",
        "except ImportError:\n",
        "  pass\n",
        "else:\n",
        "  files.download('vecs.tsv')\n",
        "  files.download('meta.tsv')"
      ],
      "id": "19au6h-kI7_f",
      "execution_count": 30,
      "outputs": [
        {
          "output_type": "display_data",
          "data": {
            "application/javascript": [
              "\n",
              "    async function download(id, filename, size) {\n",
              "      if (!google.colab.kernel.accessAllowed) {\n",
              "        return;\n",
              "      }\n",
              "      const div = document.createElement('div');\n",
              "      const label = document.createElement('label');\n",
              "      label.textContent = `Downloading \"${filename}\": `;\n",
              "      div.appendChild(label);\n",
              "      const progress = document.createElement('progress');\n",
              "      progress.max = size;\n",
              "      div.appendChild(progress);\n",
              "      document.body.appendChild(div);\n",
              "\n",
              "      const buffers = [];\n",
              "      let downloaded = 0;\n",
              "\n",
              "      const channel = await google.colab.kernel.comms.open(id);\n",
              "      // Send a message to notify the kernel that we're ready.\n",
              "      channel.send({})\n",
              "\n",
              "      for await (const message of channel.messages) {\n",
              "        // Send a message to notify the kernel that we're ready.\n",
              "        channel.send({})\n",
              "        if (message.buffers) {\n",
              "          for (const buffer of message.buffers) {\n",
              "            buffers.push(buffer);\n",
              "            downloaded += buffer.byteLength;\n",
              "            progress.value = downloaded;\n",
              "          }\n",
              "        }\n",
              "      }\n",
              "      const blob = new Blob(buffers, {type: 'application/binary'});\n",
              "      const a = document.createElement('a');\n",
              "      a.href = window.URL.createObjectURL(blob);\n",
              "      a.download = filename;\n",
              "      div.appendChild(a);\n",
              "      a.click();\n",
              "      div.remove();\n",
              "    }\n",
              "  "
            ],
            "text/plain": [
              "<IPython.core.display.Javascript object>"
            ]
          },
          "metadata": {}
        },
        {
          "output_type": "display_data",
          "data": {
            "application/javascript": [
              "download(\"download_e47f6f93-efe8-4a11-baf2-3391a338c85c\", \"vecs.tsv\", 7159742)"
            ],
            "text/plain": [
              "<IPython.core.display.Javascript object>"
            ]
          },
          "metadata": {}
        },
        {
          "output_type": "display_data",
          "data": {
            "application/javascript": [
              "\n",
              "    async function download(id, filename, size) {\n",
              "      if (!google.colab.kernel.accessAllowed) {\n",
              "        return;\n",
              "      }\n",
              "      const div = document.createElement('div');\n",
              "      const label = document.createElement('label');\n",
              "      label.textContent = `Downloading \"${filename}\": `;\n",
              "      div.appendChild(label);\n",
              "      const progress = document.createElement('progress');\n",
              "      progress.max = size;\n",
              "      div.appendChild(progress);\n",
              "      document.body.appendChild(div);\n",
              "\n",
              "      const buffers = [];\n",
              "      let downloaded = 0;\n",
              "\n",
              "      const channel = await google.colab.kernel.comms.open(id);\n",
              "      // Send a message to notify the kernel that we're ready.\n",
              "      channel.send({})\n",
              "\n",
              "      for await (const message of channel.messages) {\n",
              "        // Send a message to notify the kernel that we're ready.\n",
              "        channel.send({})\n",
              "        if (message.buffers) {\n",
              "          for (const buffer of message.buffers) {\n",
              "            buffers.push(buffer);\n",
              "            downloaded += buffer.byteLength;\n",
              "            progress.value = downloaded;\n",
              "          }\n",
              "        }\n",
              "      }\n",
              "      const blob = new Blob(buffers, {type: 'application/binary'});\n",
              "      const a = document.createElement('a');\n",
              "      a.href = window.URL.createObjectURL(blob);\n",
              "      a.download = filename;\n",
              "      div.appendChild(a);\n",
              "      a.click();\n",
              "      div.remove();\n",
              "    }\n",
              "  "
            ],
            "text/plain": [
              "<IPython.core.display.Javascript object>"
            ]
          },
          "metadata": {}
        },
        {
          "output_type": "display_data",
          "data": {
            "application/javascript": [
              "download(\"download_0e12217e-6f6b-41e8-8e24-74164efaeebf\", \"meta.tsv\", 76216)"
            ],
            "text/plain": [
              "<IPython.core.display.Javascript object>"
            ]
          },
          "metadata": {}
        }
      ]
    },
    {
      "cell_type": "code",
      "metadata": {
        "id": "TODta2tzI9U7"
      },
      "source": [
        ""
      ],
      "id": "TODta2tzI9U7",
      "execution_count": null,
      "outputs": []
    }
  ]
}